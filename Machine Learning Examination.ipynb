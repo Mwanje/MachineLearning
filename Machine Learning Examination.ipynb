{
 "cells": [
  {
   "cell_type": "markdown",
   "id": "5c01d0f4",
   "metadata": {},
   "source": [
    "# Machine Learning Examination"
   ]
  },
  {
   "cell_type": "code",
   "execution_count": 287,
   "id": "087370d4",
   "metadata": {},
   "outputs": [],
   "source": [
    "#Name: Mwanje Musa\n",
    "#Reg No: MAY22/MSC/1615U\n",
    "#Programme: MSc. COMP (CS)"
   ]
  },
  {
   "cell_type": "markdown",
   "id": "8987a879",
   "metadata": {},
   "source": [
    "# a) Import the necessary python libraries (2 marks)"
   ]
  },
  {
   "cell_type": "code",
   "execution_count": 288,
   "id": "ed523fba",
   "metadata": {},
   "outputs": [],
   "source": [
    "import requests\n",
    "import lxml.html as lh\n",
    "import pandas as pd \n",
    "import numpy as np\n",
    "import matplotlib.pyplot as plt\n",
    "import seaborn as sns"
   ]
  },
  {
   "cell_type": "markdown",
   "id": "a0574434",
   "metadata": {},
   "source": [
    "# b) Remove the Website and put the table in Notebook (4 marks)"
   ]
  },
  {
   "cell_type": "code",
   "execution_count": 289,
   "id": "6824bcf3",
   "metadata": {},
   "outputs": [
    {
     "data": {
      "text/plain": [
       "[6, 6, 6, 6, 6, 6, 6, 6, 6, 6, 6, 6]"
      ]
     },
     "execution_count": 289,
     "metadata": {},
     "output_type": "execute_result"
    }
   ],
   "source": [
    "ebola_data ='https://www.who.int/news-room/fact-sheets/detail/ebola-virus-disease'\n",
    "\n",
    "page =requests.get(ebola_data)\n",
    "\n",
    "doc = lh.fromstring(page.content)\n",
    "\n",
    "tr_elements = doc.xpath('//tr')\n",
    "\n",
    "[len(T) for T in tr_elements[:12]]"
   ]
  },
  {
   "cell_type": "code",
   "execution_count": 290,
   "id": "fae2d48b",
   "metadata": {},
   "outputs": [
    {
     "name": "stdout",
     "output_type": "stream",
     "text": [
      "1:Year\n",
      "2:Country\n",
      "3:EVD\n",
      "4:Cases\n",
      "5:Deaths\n",
      "6:Case fatality \n"
     ]
    }
   ],
   "source": [
    "#check the table header\n",
    "\n",
    "tr_elements = doc.xpath('//tr')\n",
    "\n",
    "col = []\n",
    "i = 0\n",
    "\n",
    "for t in tr_elements[0]:\n",
    "    i+=1\n",
    "    name=t.text_content()\n",
    "    print(\"%d:%s\" % (i,name))\n",
    "    col.append((name,[]))"
   ]
  },
  {
   "cell_type": "code",
   "execution_count": 291,
   "id": "833828b8",
   "metadata": {},
   "outputs": [],
   "source": [
    "#Check the data in other rows\n",
    "for j in range(1,len(tr_elements)): # Because header is the first row, data would be store in the subsequent rows.\n",
    "    T = tr_elements[j] #T is j'th row\n",
    "    \n",
    "    if len(T)!=6: #if row is not size 3, //tr data is not from the table.\n",
    "        break\n",
    "        \n",
    "    i = 0 #i is the index of the first column\n",
    "    \n",
    "    for t in T.iterchildren(): #iterate through each element of the row\n",
    "        data=t.text_content()\n",
    "            \n",
    "        col[i][1].append(data) #append the data to the empty list of the i'th column\n",
    "            \n",
    "        i+=1 #increment i for the next column"
   ]
  },
  {
   "cell_type": "code",
   "execution_count": 292,
   "id": "02fc5548",
   "metadata": {},
   "outputs": [
    {
     "data": {
      "text/plain": [
       "[41, 41, 41, 41, 41, 41]"
      ]
     },
     "execution_count": 292,
     "metadata": {},
     "output_type": "execute_result"
    }
   ],
   "source": [
    "#To see the No of Rows and Columns\n",
    "[len(C) for (title,C) in col]"
   ]
  },
  {
   "cell_type": "markdown",
   "id": "74823d8b",
   "metadata": {},
   "source": [
    "# c) Displays the data frame with "
   ]
  },
  {
   "cell_type": "code",
   "execution_count": 293,
   "id": "6e783476",
   "metadata": {},
   "outputs": [
    {
     "data": {
      "text/html": [
       "<div>\n",
       "<style scoped>\n",
       "    .dataframe tbody tr th:only-of-type {\n",
       "        vertical-align: middle;\n",
       "    }\n",
       "\n",
       "    .dataframe tbody tr th {\n",
       "        vertical-align: top;\n",
       "    }\n",
       "\n",
       "    .dataframe thead th {\n",
       "        text-align: right;\n",
       "    }\n",
       "</style>\n",
       "<table border=\"1\" class=\"dataframe\">\n",
       "  <thead>\n",
       "    <tr style=\"text-align: right;\">\n",
       "      <th></th>\n",
       "      <th>Year</th>\n",
       "      <th>Country</th>\n",
       "      <th>EVD</th>\n",
       "      <th>Cases</th>\n",
       "      <th>Deaths</th>\n",
       "      <th>Case fatality</th>\n",
       "    </tr>\n",
       "  </thead>\n",
       "  <tbody>\n",
       "    <tr>\n",
       "      <th>0</th>\n",
       "      <td>2021</td>\n",
       "      <td>Guinea</td>\n",
       "      <td>Zaire</td>\n",
       "      <td>Ongoing</td>\n",
       "      <td></td>\n",
       "      <td></td>\n",
       "    </tr>\n",
       "    <tr>\n",
       "      <th>1</th>\n",
       "      <td>2021</td>\n",
       "      <td>Democratic Republic of the Congo</td>\n",
       "      <td>Zaire</td>\n",
       "      <td>Ongoing</td>\n",
       "      <td></td>\n",
       "      <td></td>\n",
       "    </tr>\n",
       "    <tr>\n",
       "      <th>2</th>\n",
       "      <td>2020</td>\n",
       "      <td>Democratic Republic of the Congo</td>\n",
       "      <td>Zaire</td>\n",
       "      <td>130</td>\n",
       "      <td>55</td>\n",
       "      <td>42%</td>\n",
       "    </tr>\n",
       "    <tr>\n",
       "      <th>3</th>\n",
       "      <td>2018-2020</td>\n",
       "      <td>Democratic Republic of the Congo</td>\n",
       "      <td>Zaire</td>\n",
       "      <td>3481</td>\n",
       "      <td>2299</td>\n",
       "      <td>66%</td>\n",
       "    </tr>\n",
       "    <tr>\n",
       "      <th>4</th>\n",
       "      <td>2018</td>\n",
       "      <td>Democratic Republic of the Congo</td>\n",
       "      <td>Zaire</td>\n",
       "      <td>54</td>\n",
       "      <td>33</td>\n",
       "      <td>61%</td>\n",
       "    </tr>\n",
       "    <tr>\n",
       "      <th>5</th>\n",
       "      <td>2017</td>\n",
       "      <td>Democratic Republic of the Congo</td>\n",
       "      <td>Zaire</td>\n",
       "      <td>8</td>\n",
       "      <td>4</td>\n",
       "      <td>50%</td>\n",
       "    </tr>\n",
       "    <tr>\n",
       "      <th>6</th>\n",
       "      <td>2015</td>\n",
       "      <td>Italy</td>\n",
       "      <td>Zaire</td>\n",
       "      <td>1</td>\n",
       "      <td>0</td>\n",
       "      <td>0%</td>\n",
       "    </tr>\n",
       "    <tr>\n",
       "      <th>7</th>\n",
       "      <td>2014</td>\n",
       "      <td>Spain</td>\n",
       "      <td>Zaire</td>\n",
       "      <td>1</td>\n",
       "      <td>0</td>\n",
       "      <td>0%</td>\n",
       "    </tr>\n",
       "    <tr>\n",
       "      <th>8</th>\n",
       "      <td>2014</td>\n",
       "      <td>UK</td>\n",
       "      <td>Zaire</td>\n",
       "      <td>1</td>\n",
       "      <td>0</td>\n",
       "      <td>0%</td>\n",
       "    </tr>\n",
       "    <tr>\n",
       "      <th>9</th>\n",
       "      <td>2014</td>\n",
       "      <td>USA</td>\n",
       "      <td>Zaire</td>\n",
       "      <td>4</td>\n",
       "      <td>1</td>\n",
       "      <td>25%</td>\n",
       "    </tr>\n",
       "  </tbody>\n",
       "</table>\n",
       "</div>"
      ],
      "text/plain": [
       "         Year                             Country      EVD    Cases Deaths  \\\n",
       "0        2021                              Guinea    Zaire  Ongoing          \n",
       "1        2021    Democratic Republic of the Congo    Zaire  Ongoing          \n",
       "2        2020    Democratic Republic of the Congo    Zaire      130     55   \n",
       "3  2018-2020    Democratic Republic of the Congo    Zaire     3481   2299    \n",
       "4       2018    Democratic Republic of the Congo   Zaire       54     33     \n",
       "5       2017   Democratic Republic of the Congo    Zaire        8      4     \n",
       "6       2015                               Italy    Zaire        1      0    \n",
       "7       2014                               Spain    Zaire        1      0    \n",
       "8       2014                                  UK    Zaire        1      0    \n",
       "9       2014                                 USA    Zaire        4      1    \n",
       "\n",
       "  Case fatality   \n",
       "0                 \n",
       "1                 \n",
       "2            42%  \n",
       "3           66%   \n",
       "4          61%    \n",
       "5          50%    \n",
       "6            0%   \n",
       "7            0%   \n",
       "8            0%   \n",
       "9           25%   "
      ]
     },
     "execution_count": 293,
     "metadata": {},
     "output_type": "execute_result"
    }
   ],
   "source": [
    "#Create a dataframe and read the file\n",
    "Dict = {title:column for (title,column) in col}\n",
    "df = pd.DataFrame(Dict)\n",
    "\n",
    "# First 10 records (2 marks)\n",
    "df.head(10)"
   ]
  },
  {
   "cell_type": "code",
   "execution_count": 294,
   "id": "5ccd9ca2",
   "metadata": {},
   "outputs": [
    {
     "data": {
      "text/html": [
       "<div>\n",
       "<style scoped>\n",
       "    .dataframe tbody tr th:only-of-type {\n",
       "        vertical-align: middle;\n",
       "    }\n",
       "\n",
       "    .dataframe tbody tr th {\n",
       "        vertical-align: top;\n",
       "    }\n",
       "\n",
       "    .dataframe thead th {\n",
       "        text-align: right;\n",
       "    }\n",
       "</style>\n",
       "<table border=\"1\" class=\"dataframe\">\n",
       "  <thead>\n",
       "    <tr style=\"text-align: right;\">\n",
       "      <th></th>\n",
       "      <th>Year</th>\n",
       "      <th>Country</th>\n",
       "      <th>EVD</th>\n",
       "      <th>Cases</th>\n",
       "      <th>Deaths</th>\n",
       "      <th>Case fatality</th>\n",
       "    </tr>\n",
       "  </thead>\n",
       "  <tbody>\n",
       "    <tr>\n",
       "      <th>31</th>\n",
       "      <td>1996</td>\n",
       "      <td>South Africa (ex-Gabon)</td>\n",
       "      <td>Zaire</td>\n",
       "      <td>1</td>\n",
       "      <td>1</td>\n",
       "      <td>100%</td>\n",
       "    </tr>\n",
       "    <tr>\n",
       "      <th>32</th>\n",
       "      <td>1996 (Jul-Dec)</td>\n",
       "      <td>Gabon</td>\n",
       "      <td>Zaire</td>\n",
       "      <td>60</td>\n",
       "      <td>45</td>\n",
       "      <td>75%</td>\n",
       "    </tr>\n",
       "    <tr>\n",
       "      <th>33</th>\n",
       "      <td>1996 (Jan-Apr)</td>\n",
       "      <td>Gabon</td>\n",
       "      <td>Zaire</td>\n",
       "      <td>31</td>\n",
       "      <td>21</td>\n",
       "      <td>68%</td>\n",
       "    </tr>\n",
       "    <tr>\n",
       "      <th>34</th>\n",
       "      <td>1995</td>\n",
       "      <td>Democratic Republic of the Congo</td>\n",
       "      <td>Zaire</td>\n",
       "      <td>315</td>\n",
       "      <td>254</td>\n",
       "      <td>81%</td>\n",
       "    </tr>\n",
       "    <tr>\n",
       "      <th>35</th>\n",
       "      <td>1994</td>\n",
       "      <td>Côte d'Ivoire</td>\n",
       "      <td>Taï Forest</td>\n",
       "      <td>1</td>\n",
       "      <td>0</td>\n",
       "      <td>0%</td>\n",
       "    </tr>\n",
       "    <tr>\n",
       "      <th>36</th>\n",
       "      <td>1994</td>\n",
       "      <td>Gabon</td>\n",
       "      <td>Zaire</td>\n",
       "      <td>52</td>\n",
       "      <td>31</td>\n",
       "      <td>60%</td>\n",
       "    </tr>\n",
       "    <tr>\n",
       "      <th>37</th>\n",
       "      <td>1979</td>\n",
       "      <td>Sudan</td>\n",
       "      <td>Sudan</td>\n",
       "      <td>34</td>\n",
       "      <td>22</td>\n",
       "      <td>65%</td>\n",
       "    </tr>\n",
       "    <tr>\n",
       "      <th>38</th>\n",
       "      <td>1977</td>\n",
       "      <td>Democratic Republic of the Congo</td>\n",
       "      <td>Zaire</td>\n",
       "      <td>1</td>\n",
       "      <td>1</td>\n",
       "      <td>100%</td>\n",
       "    </tr>\n",
       "    <tr>\n",
       "      <th>39</th>\n",
       "      <td>1976</td>\n",
       "      <td>Sudan</td>\n",
       "      <td>Sudan</td>\n",
       "      <td>284</td>\n",
       "      <td>151</td>\n",
       "      <td>53%</td>\n",
       "    </tr>\n",
       "    <tr>\n",
       "      <th>40</th>\n",
       "      <td>1976</td>\n",
       "      <td>Democratic Republic of the Congo</td>\n",
       "      <td>Zaire</td>\n",
       "      <td>318</td>\n",
       "      <td>280</td>\n",
       "      <td>88%</td>\n",
       "    </tr>\n",
       "  </tbody>\n",
       "</table>\n",
       "</div>"
      ],
      "text/plain": [
       "               Year                            Country          EVD Cases  \\\n",
       "31            1996            South Africa (ex-Gabon)        Zaire     1    \n",
       "32  1996 (Jul-Dec)                              Gabon        Zaire    60    \n",
       "33  1996 (Jan-Apr)                              Gabon        Zaire    31    \n",
       "34            1995   Democratic Republic of the Congo        Zaire   315    \n",
       "35            1994                      Côte d'Ivoire   Taï Forest     1    \n",
       "36            1994                              Gabon        Zaire    52    \n",
       "37            1979                              Sudan        Sudan    34    \n",
       "38            1977   Democratic Republic of the Congo        Zaire     1    \n",
       "39            1976                              Sudan        Sudan   284    \n",
       "40             1976  Democratic Republic of the Congo        Zaire   318    \n",
       "\n",
       "   Deaths Case fatality   \n",
       "31     1           100%   \n",
       "32    45            75%   \n",
       "33    21            68%   \n",
       "34   254            81%   \n",
       "35     0             0%   \n",
       "36    31            60%   \n",
       "37    22            65%   \n",
       "38     1           100%   \n",
       "39   151            53%   \n",
       "40   280             88%  "
      ]
     },
     "execution_count": 294,
     "metadata": {},
     "output_type": "execute_result"
    }
   ],
   "source": [
    "# Last 10 records (2 marks)\n",
    "df.tail(10)"
   ]
  },
  {
   "cell_type": "markdown",
   "id": "eae34f76",
   "metadata": {},
   "source": [
    "# d) Clean the data set (8 marks)"
   ]
  },
  {
   "cell_type": "code",
   "execution_count": 295,
   "id": "0b8d1a89",
   "metadata": {},
   "outputs": [
    {
     "data": {
      "text/plain": [
       "(41, 6)"
      ]
     },
     "execution_count": 295,
     "metadata": {},
     "output_type": "execute_result"
    }
   ],
   "source": [
    "df.shape"
   ]
  },
  {
   "cell_type": "code",
   "execution_count": 296,
   "id": "56e2636c",
   "metadata": {},
   "outputs": [
    {
     "data": {
      "text/html": [
       "<div>\n",
       "<style scoped>\n",
       "    .dataframe tbody tr th:only-of-type {\n",
       "        vertical-align: middle;\n",
       "    }\n",
       "\n",
       "    .dataframe tbody tr th {\n",
       "        vertical-align: top;\n",
       "    }\n",
       "\n",
       "    .dataframe thead th {\n",
       "        text-align: right;\n",
       "    }\n",
       "</style>\n",
       "<table border=\"1\" class=\"dataframe\">\n",
       "  <thead>\n",
       "    <tr style=\"text-align: right;\">\n",
       "      <th></th>\n",
       "      <th>Year</th>\n",
       "      <th>Country</th>\n",
       "      <th>EVD</th>\n",
       "      <th>Cases</th>\n",
       "      <th>Deaths</th>\n",
       "      <th>Case fatality</th>\n",
       "    </tr>\n",
       "  </thead>\n",
       "  <tbody>\n",
       "    <tr>\n",
       "      <th>1</th>\n",
       "      <td>2021</td>\n",
       "      <td>Democratic Republic of the Congo</td>\n",
       "      <td>Zaire</td>\n",
       "      <td>Ongoing</td>\n",
       "      <td></td>\n",
       "      <td></td>\n",
       "    </tr>\n",
       "    <tr>\n",
       "      <th>2</th>\n",
       "      <td>2020</td>\n",
       "      <td>Democratic Republic of the Congo</td>\n",
       "      <td>Zaire</td>\n",
       "      <td>130</td>\n",
       "      <td>55</td>\n",
       "      <td>42%</td>\n",
       "    </tr>\n",
       "    <tr>\n",
       "      <th>3</th>\n",
       "      <td>2018-2020</td>\n",
       "      <td>Democratic Republic of the Congo</td>\n",
       "      <td>Zaire</td>\n",
       "      <td>3481</td>\n",
       "      <td>2299</td>\n",
       "      <td>66%</td>\n",
       "    </tr>\n",
       "    <tr>\n",
       "      <th>4</th>\n",
       "      <td>2018</td>\n",
       "      <td>Democratic Republic of the Congo</td>\n",
       "      <td>Zaire</td>\n",
       "      <td>54</td>\n",
       "      <td>33</td>\n",
       "      <td>61%</td>\n",
       "    </tr>\n",
       "    <tr>\n",
       "      <th>5</th>\n",
       "      <td>2017</td>\n",
       "      <td>Democratic Republic of the Congo</td>\n",
       "      <td>Zaire</td>\n",
       "      <td>8</td>\n",
       "      <td>4</td>\n",
       "      <td>50%</td>\n",
       "    </tr>\n",
       "    <tr>\n",
       "      <th>6</th>\n",
       "      <td>2015</td>\n",
       "      <td>Italy</td>\n",
       "      <td>Zaire</td>\n",
       "      <td>1</td>\n",
       "      <td>0</td>\n",
       "      <td>0%</td>\n",
       "    </tr>\n",
       "    <tr>\n",
       "      <th>7</th>\n",
       "      <td>2014</td>\n",
       "      <td>Spain</td>\n",
       "      <td>Zaire</td>\n",
       "      <td>1</td>\n",
       "      <td>0</td>\n",
       "      <td>0%</td>\n",
       "    </tr>\n",
       "    <tr>\n",
       "      <th>8</th>\n",
       "      <td>2014</td>\n",
       "      <td>UK</td>\n",
       "      <td>Zaire</td>\n",
       "      <td>1</td>\n",
       "      <td>0</td>\n",
       "      <td>0%</td>\n",
       "    </tr>\n",
       "    <tr>\n",
       "      <th>9</th>\n",
       "      <td>2014</td>\n",
       "      <td>USA</td>\n",
       "      <td>Zaire</td>\n",
       "      <td>4</td>\n",
       "      <td>1</td>\n",
       "      <td>25%</td>\n",
       "    </tr>\n",
       "    <tr>\n",
       "      <th>10</th>\n",
       "      <td>2014</td>\n",
       "      <td>Senegal</td>\n",
       "      <td>Zaire</td>\n",
       "      <td>1</td>\n",
       "      <td>0</td>\n",
       "      <td>0%</td>\n",
       "    </tr>\n",
       "  </tbody>\n",
       "</table>\n",
       "</div>"
      ],
      "text/plain": [
       "          Year                             Country      EVD    Cases Deaths  \\\n",
       "1         2021    Democratic Republic of the Congo    Zaire  Ongoing          \n",
       "2         2020    Democratic Republic of the Congo    Zaire      130     55   \n",
       "3   2018-2020    Democratic Republic of the Congo    Zaire     3481   2299    \n",
       "4        2018    Democratic Republic of the Congo   Zaire       54     33     \n",
       "5        2017   Democratic Republic of the Congo    Zaire        8      4     \n",
       "6        2015                               Italy    Zaire        1      0    \n",
       "7        2014                               Spain    Zaire        1      0    \n",
       "8        2014                                  UK    Zaire        1      0    \n",
       "9        2014                                 USA    Zaire        4      1    \n",
       "10       2014                             Senegal    Zaire        1      0    \n",
       "\n",
       "   Case fatality   \n",
       "1                  \n",
       "2             42%  \n",
       "3            66%   \n",
       "4           61%    \n",
       "5           50%    \n",
       "6             0%   \n",
       "7             0%   \n",
       "8             0%   \n",
       "9            25%   \n",
       "10            0%   "
      ]
     },
     "execution_count": 296,
     "metadata": {},
     "output_type": "execute_result"
    }
   ],
   "source": [
    "#Remove row 0\n",
    "dfc =df.drop([df.index[0]])\n",
    "dfc.head(10)"
   ]
  },
  {
   "cell_type": "code",
   "execution_count": 297,
   "id": "1cf0c5ed",
   "metadata": {},
   "outputs": [
    {
     "name": "stderr",
     "output_type": "stream",
     "text": [
      "/var/folders/jd/tc3c_86n42jc_mmcmstnnxz80000gn/T/ipykernel_96264/1143406524.py:5: FutureWarning: The default value of regex will change from True to False in a future version.\n",
      "  df['Year'] = df['Year'].str.replace(r\"\\(.*\\)\",\"\")\n"
     ]
    },
    {
     "data": {
      "text/html": [
       "<div>\n",
       "<style scoped>\n",
       "    .dataframe tbody tr th:only-of-type {\n",
       "        vertical-align: middle;\n",
       "    }\n",
       "\n",
       "    .dataframe tbody tr th {\n",
       "        vertical-align: top;\n",
       "    }\n",
       "\n",
       "    .dataframe thead th {\n",
       "        text-align: right;\n",
       "    }\n",
       "</style>\n",
       "<table border=\"1\" class=\"dataframe\">\n",
       "  <thead>\n",
       "    <tr style=\"text-align: right;\">\n",
       "      <th></th>\n",
       "      <th>Year</th>\n",
       "      <th>Country</th>\n",
       "      <th>EVD</th>\n",
       "      <th>Cases</th>\n",
       "      <th>Deaths</th>\n",
       "      <th>Case fatality</th>\n",
       "    </tr>\n",
       "  </thead>\n",
       "  <tbody>\n",
       "    <tr>\n",
       "      <th>2</th>\n",
       "      <td>2020</td>\n",
       "      <td>Democratic Republic of the Congo</td>\n",
       "      <td>Zaire</td>\n",
       "      <td>130</td>\n",
       "      <td>55</td>\n",
       "      <td>42</td>\n",
       "    </tr>\n",
       "    <tr>\n",
       "      <th>4</th>\n",
       "      <td>2018</td>\n",
       "      <td>Democratic Republic of the Congo</td>\n",
       "      <td>Zaire</td>\n",
       "      <td>54</td>\n",
       "      <td>33</td>\n",
       "      <td>61</td>\n",
       "    </tr>\n",
       "    <tr>\n",
       "      <th>5</th>\n",
       "      <td>2017</td>\n",
       "      <td>Democratic Republic of the Congo</td>\n",
       "      <td>Zaire</td>\n",
       "      <td>8</td>\n",
       "      <td>4</td>\n",
       "      <td>50</td>\n",
       "    </tr>\n",
       "    <tr>\n",
       "      <th>6</th>\n",
       "      <td>2015</td>\n",
       "      <td>Italy</td>\n",
       "      <td>Zaire</td>\n",
       "      <td>1</td>\n",
       "      <td>0</td>\n",
       "      <td>0</td>\n",
       "    </tr>\n",
       "    <tr>\n",
       "      <th>7</th>\n",
       "      <td>2014</td>\n",
       "      <td>Spain</td>\n",
       "      <td>Zaire</td>\n",
       "      <td>1</td>\n",
       "      <td>0</td>\n",
       "      <td>0</td>\n",
       "    </tr>\n",
       "  </tbody>\n",
       "</table>\n",
       "</div>"
      ],
      "text/plain": [
       "   Year                             Country      EVD  Cases  Deaths  \\\n",
       "2  2020    Democratic Republic of the Congo    Zaire    130      55   \n",
       "4  2018   Democratic Republic of the Congo   Zaire       54      33   \n",
       "5  2017  Democratic Republic of the Congo    Zaire        8       4   \n",
       "6  2015                              Italy    Zaire       1       0   \n",
       "7  2014                              Spain    Zaire       1       0   \n",
       "\n",
       "   Case fatality   \n",
       "2              42  \n",
       "4              61  \n",
       "5              50  \n",
       "6               0  \n",
       "7               0  "
      ]
     },
     "execution_count": 297,
     "metadata": {},
     "output_type": "execute_result"
    }
   ],
   "source": [
    "# Removing fields with NaN, empty cells, non meaning full rows etc\n",
    "df = dfc.drop([1,3,13,14,15,16,26,27,28,29,32,33])\n",
    "df['Cases'] = df['Cases'].str.strip()\n",
    "df['Deaths'] = df['Deaths'].str.strip()\n",
    "df['Year'] = df['Year'].str.replace(r\"\\(.*\\)\",\"\")\n",
    "df.iloc[:,5] =df.iloc[:,5].str.replace(r\"%\",\"\")\n",
    "df.iloc[:,5] =df.iloc[:,5].str.strip()\n",
    "df['Year'] = df['Year'].str.strip()\n",
    "\n",
    "df['Year'] = pd.to_numeric(df['Year'])\n",
    "df['Cases'] = pd.to_numeric(df['Cases'])\n",
    "df['Deaths'] = pd.to_numeric(df['Deaths'])\n",
    "df.iloc[:,5] =pd.to_numeric(df.iloc[:,5])\n",
    "df.head()"
   ]
  },
  {
   "cell_type": "code",
   "execution_count": null,
   "id": "82b780a8",
   "metadata": {},
   "outputs": [],
   "source": []
  },
  {
   "cell_type": "markdown",
   "id": "f93af9a1",
   "metadata": {},
   "source": [
    "# e) Produce the descriptive statistical table values. (2 marks)"
   ]
  },
  {
   "cell_type": "code",
   "execution_count": 298,
   "id": "af17cc5b",
   "metadata": {},
   "outputs": [
    {
     "data": {
      "text/html": [
       "<div>\n",
       "<style scoped>\n",
       "    .dataframe tbody tr th:only-of-type {\n",
       "        vertical-align: middle;\n",
       "    }\n",
       "\n",
       "    .dataframe tbody tr th {\n",
       "        vertical-align: top;\n",
       "    }\n",
       "\n",
       "    .dataframe thead th {\n",
       "        text-align: right;\n",
       "    }\n",
       "</style>\n",
       "<table border=\"1\" class=\"dataframe\">\n",
       "  <thead>\n",
       "    <tr style=\"text-align: right;\">\n",
       "      <th></th>\n",
       "      <th>Year</th>\n",
       "      <th>Cases</th>\n",
       "      <th>Deaths</th>\n",
       "      <th>Case fatality</th>\n",
       "    </tr>\n",
       "  </thead>\n",
       "  <tbody>\n",
       "    <tr>\n",
       "      <th>count</th>\n",
       "      <td>28.000000</td>\n",
       "      <td>28.000000</td>\n",
       "      <td>28.000000</td>\n",
       "      <td>28.000000</td>\n",
       "    </tr>\n",
       "    <tr>\n",
       "      <th>mean</th>\n",
       "      <td>2004.250000</td>\n",
       "      <td>79.357143</td>\n",
       "      <td>49.178571</td>\n",
       "      <td>51.285714</td>\n",
       "    </tr>\n",
       "    <tr>\n",
       "      <th>std</th>\n",
       "      <td>13.470475</td>\n",
       "      <td>122.739475</td>\n",
       "      <td>84.257565</td>\n",
       "      <td>31.622609</td>\n",
       "    </tr>\n",
       "    <tr>\n",
       "      <th>min</th>\n",
       "      <td>1976.000000</td>\n",
       "      <td>1.000000</td>\n",
       "      <td>0.000000</td>\n",
       "      <td>0.000000</td>\n",
       "    </tr>\n",
       "    <tr>\n",
       "      <th>25%</th>\n",
       "      <td>1995.750000</td>\n",
       "      <td>1.000000</td>\n",
       "      <td>1.000000</td>\n",
       "      <td>36.250000</td>\n",
       "    </tr>\n",
       "    <tr>\n",
       "      <th>50%</th>\n",
       "      <td>2009.500000</td>\n",
       "      <td>18.500000</td>\n",
       "      <td>9.000000</td>\n",
       "      <td>53.000000</td>\n",
       "    </tr>\n",
       "    <tr>\n",
       "      <th>75%</th>\n",
       "      <td>2014.000000</td>\n",
       "      <td>75.250000</td>\n",
       "      <td>34.000000</td>\n",
       "      <td>72.000000</td>\n",
       "    </tr>\n",
       "    <tr>\n",
       "      <th>max</th>\n",
       "      <td>2020.000000</td>\n",
       "      <td>425.000000</td>\n",
       "      <td>280.000000</td>\n",
       "      <td>100.000000</td>\n",
       "    </tr>\n",
       "  </tbody>\n",
       "</table>\n",
       "</div>"
      ],
      "text/plain": [
       "              Year       Cases      Deaths  Case fatality \n",
       "count    28.000000   28.000000   28.000000       28.000000\n",
       "mean   2004.250000   79.357143   49.178571       51.285714\n",
       "std      13.470475  122.739475   84.257565       31.622609\n",
       "min    1976.000000    1.000000    0.000000        0.000000\n",
       "25%    1995.750000    1.000000    1.000000       36.250000\n",
       "50%    2009.500000   18.500000    9.000000       53.000000\n",
       "75%    2014.000000   75.250000   34.000000       72.000000\n",
       "max    2020.000000  425.000000  280.000000      100.000000"
      ]
     },
     "execution_count": 298,
     "metadata": {},
     "output_type": "execute_result"
    }
   ],
   "source": [
    "df.describe()"
   ]
  },
  {
   "cell_type": "markdown",
   "id": "aa6d34a5",
   "metadata": {},
   "source": [
    "# f) Check the correlations between the features (2 marks)"
   ]
  },
  {
   "cell_type": "code",
   "execution_count": 299,
   "id": "b3f54fc4",
   "metadata": {},
   "outputs": [
    {
     "data": {
      "text/html": [
       "<div>\n",
       "<style scoped>\n",
       "    .dataframe tbody tr th:only-of-type {\n",
       "        vertical-align: middle;\n",
       "    }\n",
       "\n",
       "    .dataframe tbody tr th {\n",
       "        vertical-align: top;\n",
       "    }\n",
       "\n",
       "    .dataframe thead th {\n",
       "        text-align: right;\n",
       "    }\n",
       "</style>\n",
       "<table border=\"1\" class=\"dataframe\">\n",
       "  <thead>\n",
       "    <tr style=\"text-align: right;\">\n",
       "      <th></th>\n",
       "      <th>Year</th>\n",
       "      <th>Cases</th>\n",
       "      <th>Deaths</th>\n",
       "      <th>Case fatality</th>\n",
       "    </tr>\n",
       "  </thead>\n",
       "  <tbody>\n",
       "    <tr>\n",
       "      <th>Year</th>\n",
       "      <td>1.000000</td>\n",
       "      <td>-0.402559</td>\n",
       "      <td>-0.450331</td>\n",
       "      <td>-0.410217</td>\n",
       "    </tr>\n",
       "    <tr>\n",
       "      <th>Cases</th>\n",
       "      <td>-0.402559</td>\n",
       "      <td>1.000000</td>\n",
       "      <td>0.956410</td>\n",
       "      <td>0.228855</td>\n",
       "    </tr>\n",
       "    <tr>\n",
       "      <th>Deaths</th>\n",
       "      <td>-0.450331</td>\n",
       "      <td>0.956410</td>\n",
       "      <td>1.000000</td>\n",
       "      <td>0.308946</td>\n",
       "    </tr>\n",
       "    <tr>\n",
       "      <th>Case fatality</th>\n",
       "      <td>-0.410217</td>\n",
       "      <td>0.228855</td>\n",
       "      <td>0.308946</td>\n",
       "      <td>1.000000</td>\n",
       "    </tr>\n",
       "  </tbody>\n",
       "</table>\n",
       "</div>"
      ],
      "text/plain": [
       "                    Year     Cases    Deaths  Case fatality \n",
       "Year            1.000000 -0.402559 -0.450331       -0.410217\n",
       "Cases          -0.402559  1.000000  0.956410        0.228855\n",
       "Deaths         -0.450331  0.956410  1.000000        0.308946\n",
       "Case fatality  -0.410217  0.228855  0.308946        1.000000"
      ]
     },
     "execution_count": 299,
     "metadata": {},
     "output_type": "execute_result"
    }
   ],
   "source": [
    "df.corr()"
   ]
  },
  {
   "cell_type": "markdown",
   "id": "1a7766f0",
   "metadata": {},
   "source": [
    "# g) Generate the regression plots between variables.  (2 marks)"
   ]
  },
  {
   "cell_type": "code",
   "execution_count": 300,
   "id": "4c553427",
   "metadata": {},
   "outputs": [
    {
     "data": {
      "image/png": "[encoded data removed]",
      "text/plain": [
       "<Figure size 1440x720 with 1 Axes>"
      ]
     },
     "metadata": {
      "needs_background": "light"
     },
     "output_type": "display_data"
    }
   ],
   "source": [
    "plt.figure(figsize = (20,10))\n",
    "\n",
    "x = df.Year\n",
    "y = df.Deaths\n",
    "\n",
    "plt.plot(x, y, label =' ', linewidth = 7)\n",
    "plt.plot(x, y,'*k', markersize = 14, label = '')\n",
    "\n",
    "plt.axis([x.iloc[0]-1, x.iloc[-1]+1, y.iloc[0]*-0.1,  y.iloc[-1]*1.1])\n",
    "\n",
    "plt.xlabel('Year')\n",
    "plt.ylabel('Cases')\n",
    "\n",
    "plt.rcParams.update({'font.size': 26})\n",
    "plt.show()"
   ]
  },
  {
   "cell_type": "code",
   "execution_count": null,
   "id": "c5d68439",
   "metadata": {},
   "outputs": [],
   "source": []
  },
  {
   "cell_type": "markdown",
   "id": "8f670319",
   "metadata": {},
   "source": [
    "# h) Generate a heatmap for the correlations of features. (4 marks)"
   ]
  },
  {
   "cell_type": "code",
   "execution_count": 301,
   "id": "7359981d",
   "metadata": {},
   "outputs": [
    {
     "data": {
      "image/png": "[encoded data removed]",
      "text/plain": [
       "<Figure size 1152x432 with 2 Axes>"
      ]
     },
     "metadata": {
      "needs_background": "light"
     },
     "output_type": "display_data"
    }
   ],
   "source": [
    "#this figure helps us to relate the correelation between features\n",
    "plt.figure(figsize=(16, 6))\n",
    "heatmap = sns.heatmap(df.corr(method ='pearson'), annot=True)\n",
    "heatmap.set_title('Correlation Heatmap', fontdict={'fontsize':12}, pad=12);"
   ]
  },
  {
   "cell_type": "markdown",
   "id": "26e6abb2",
   "metadata": {},
   "source": [
    "# i) Produce Simple Linear Regression model to show relationship between the two features that are strongly correlated. (4 marks)"
   ]
  },
  {
   "cell_type": "code",
   "execution_count": 302,
   "id": "1882a394",
   "metadata": {},
   "outputs": [
    {
     "data": {
      "text/html": [
       "<div>\n",
       "<style scoped>\n",
       "    .dataframe tbody tr th:only-of-type {\n",
       "        vertical-align: middle;\n",
       "    }\n",
       "\n",
       "    .dataframe tbody tr th {\n",
       "        vertical-align: top;\n",
       "    }\n",
       "\n",
       "    .dataframe thead th {\n",
       "        text-align: right;\n",
       "    }\n",
       "</style>\n",
       "<table border=\"1\" class=\"dataframe\">\n",
       "  <thead>\n",
       "    <tr style=\"text-align: right;\">\n",
       "      <th></th>\n",
       "      <th>Year</th>\n",
       "      <th>Cases</th>\n",
       "      <th>Deaths</th>\n",
       "      <th>Case fatality</th>\n",
       "    </tr>\n",
       "  </thead>\n",
       "  <tbody>\n",
       "    <tr>\n",
       "      <th>Year</th>\n",
       "      <td>1.000000</td>\n",
       "      <td>-0.402559</td>\n",
       "      <td>-0.450331</td>\n",
       "      <td>-0.410217</td>\n",
       "    </tr>\n",
       "    <tr>\n",
       "      <th>Cases</th>\n",
       "      <td>-0.402559</td>\n",
       "      <td>1.000000</td>\n",
       "      <td>0.956410</td>\n",
       "      <td>0.228855</td>\n",
       "    </tr>\n",
       "    <tr>\n",
       "      <th>Deaths</th>\n",
       "      <td>-0.450331</td>\n",
       "      <td>0.956410</td>\n",
       "      <td>1.000000</td>\n",
       "      <td>0.308946</td>\n",
       "    </tr>\n",
       "    <tr>\n",
       "      <th>Case fatality</th>\n",
       "      <td>-0.410217</td>\n",
       "      <td>0.228855</td>\n",
       "      <td>0.308946</td>\n",
       "      <td>1.000000</td>\n",
       "    </tr>\n",
       "  </tbody>\n",
       "</table>\n",
       "</div>"
      ],
      "text/plain": [
       "                    Year     Cases    Deaths  Case fatality \n",
       "Year            1.000000 -0.402559 -0.450331       -0.410217\n",
       "Cases          -0.402559  1.000000  0.956410        0.228855\n",
       "Deaths         -0.450331  0.956410  1.000000        0.308946\n",
       "Case fatality  -0.410217  0.228855  0.308946        1.000000"
      ]
     },
     "execution_count": 302,
     "metadata": {},
     "output_type": "execute_result"
    }
   ],
   "source": [
    "df.corr(method ='pearson')"
   ]
  },
  {
   "cell_type": "markdown",
   "id": "c33cf5f1",
   "metadata": {},
   "source": [
    "# j) Compute the slope and the intercept of your graph and deduce your model in the form y=mx+c  (4 marks)\n"
   ]
  },
  {
   "cell_type": "code",
   "execution_count": 303,
   "id": "bef52224",
   "metadata": {},
   "outputs": [],
   "source": [
    "# dependent variable for y axis\n",
    "y = df['Cases']\n",
    "# independent variable for x axis\n",
    "x = np.c_[df['Year']]"
   ]
  },
  {
   "cell_type": "code",
   "execution_count": 304,
   "id": "bd5453e8",
   "metadata": {},
   "outputs": [
    {
     "name": "stdout",
     "output_type": "stream",
     "text": [
      "The slope of line is: [-3.66801041]\n",
      "The y-intercept is: 7430.967006611799\n"
     ]
    }
   ],
   "source": [
    "#fitting a simple regression model for predicting popluation using year\n",
    "lm = LinearRegression()\n",
    "lm_model = lm.fit(x,y)\n",
    "\n",
    "print ('The slope of line is:', lm_model.coef_)\n",
    "print ('The y-intercept is:',lm_model.intercept_)"
   ]
  },
  {
   "cell_type": "markdown",
   "id": "8e2e38c5",
   "metadata": {},
   "source": [
    "# k) Evaluate your model and make a conclusion based on R-square and Mean Square Error values. (4 marks)"
   ]
  },
  {
   "cell_type": "code",
   "execution_count": 305,
   "id": "44c125a3",
   "metadata": {},
   "outputs": [
    {
     "data": {
      "text/plain": [
       "array([-7.75810437])"
      ]
     },
     "execution_count": 305,
     "metadata": {},
     "output_type": "execute_result"
    }
   ],
   "source": [
    "#prediction\n",
    "year_X = np.c_[2028]\n",
    "pred_model = lm.predict(year_X)\n",
    "pred_model"
   ]
  },
  {
   "cell_type": "code",
   "execution_count": 306,
   "id": "9cf9f4fd",
   "metadata": {},
   "outputs": [
    {
     "name": "stdout",
     "output_type": "stream",
     "text": [
      "MAE 2035.7581043745759\n",
      "RMSE 2035.7581043745759\n"
     ]
    }
   ],
   "source": [
    "print('MAE', metrics.mean_absolute_error(pred_model,year_X))\n",
    "print('RMSE',np.sqrt(metrics.mean_squared_error(pred_model,year_X)))"
   ]
  },
  {
   "cell_type": "code",
   "execution_count": 307,
   "id": "9872a904",
   "metadata": {},
   "outputs": [
    {
     "data": {
      "text/html": [
       "<div>\n",
       "<style scoped>\n",
       "    .dataframe tbody tr th:only-of-type {\n",
       "        vertical-align: middle;\n",
       "    }\n",
       "\n",
       "    .dataframe tbody tr th {\n",
       "        vertical-align: top;\n",
       "    }\n",
       "\n",
       "    .dataframe thead th {\n",
       "        text-align: right;\n",
       "    }\n",
       "</style>\n",
       "<table border=\"1\" class=\"dataframe\">\n",
       "  <thead>\n",
       "    <tr style=\"text-align: right;\">\n",
       "      <th></th>\n",
       "      <th>Year</th>\n",
       "      <th>Country</th>\n",
       "      <th>EVD</th>\n",
       "      <th>Cases</th>\n",
       "      <th>Deaths</th>\n",
       "      <th>Case fatality</th>\n",
       "    </tr>\n",
       "  </thead>\n",
       "  <tbody>\n",
       "    <tr>\n",
       "      <th>2</th>\n",
       "      <td>2020</td>\n",
       "      <td>Democratic Republic of the Congo</td>\n",
       "      <td>Zaire</td>\n",
       "      <td>130</td>\n",
       "      <td>55</td>\n",
       "      <td>42</td>\n",
       "    </tr>\n",
       "    <tr>\n",
       "      <th>4</th>\n",
       "      <td>2018</td>\n",
       "      <td>Democratic Republic of the Congo</td>\n",
       "      <td>Zaire</td>\n",
       "      <td>54</td>\n",
       "      <td>33</td>\n",
       "      <td>61</td>\n",
       "    </tr>\n",
       "    <tr>\n",
       "      <th>5</th>\n",
       "      <td>2017</td>\n",
       "      <td>Democratic Republic of the Congo</td>\n",
       "      <td>Zaire</td>\n",
       "      <td>8</td>\n",
       "      <td>4</td>\n",
       "      <td>50</td>\n",
       "    </tr>\n",
       "    <tr>\n",
       "      <th>6</th>\n",
       "      <td>2015</td>\n",
       "      <td>Italy</td>\n",
       "      <td>Zaire</td>\n",
       "      <td>1</td>\n",
       "      <td>0</td>\n",
       "      <td>0</td>\n",
       "    </tr>\n",
       "    <tr>\n",
       "      <th>7</th>\n",
       "      <td>2014</td>\n",
       "      <td>Spain</td>\n",
       "      <td>Zaire</td>\n",
       "      <td>1</td>\n",
       "      <td>0</td>\n",
       "      <td>0</td>\n",
       "    </tr>\n",
       "  </tbody>\n",
       "</table>\n",
       "</div>"
      ],
      "text/plain": [
       "   Year                             Country      EVD  Cases  Deaths  \\\n",
       "2  2020    Democratic Republic of the Congo    Zaire    130      55   \n",
       "4  2018   Democratic Republic of the Congo   Zaire       54      33   \n",
       "5  2017  Democratic Republic of the Congo    Zaire        8       4   \n",
       "6  2015                              Italy    Zaire       1       0   \n",
       "7  2014                              Spain    Zaire       1       0   \n",
       "\n",
       "   Case fatality   \n",
       "2              42  \n",
       "4              61  \n",
       "5              50  \n",
       "6               0  \n",
       "7               0  "
      ]
     },
     "execution_count": 307,
     "metadata": {},
     "output_type": "execute_result"
    }
   ],
   "source": [
    "df.head()"
   ]
  },
  {
   "cell_type": "code",
   "execution_count": null,
   "id": "3965ebb7",
   "metadata": {},
   "outputs": [],
   "source": []
  },
  {
   "cell_type": "code",
   "execution_count": null,
   "id": "994f9351",
   "metadata": {},
   "outputs": [],
   "source": []
  },
  {
   "cell_type": "code",
   "execution_count": null,
   "id": "b997e14c",
   "metadata": {},
   "outputs": [],
   "source": []
  },
  {
   "cell_type": "markdown",
   "id": "e296eee5",
   "metadata": {},
   "source": [
    "# SECTION B"
   ]
  },
  {
   "cell_type": "markdown",
   "id": "006a6c1c",
   "metadata": {},
   "source": [
    "# Question Five"
   ]
  },
  {
   "cell_type": "markdown",
   "id": "f5378157",
   "metadata": {},
   "source": [
    "# a) Import necessary libraries for Logistic Regression algorithm. (5 marks)"
   ]
  },
  {
   "cell_type": "code",
   "execution_count": 423,
   "id": "81180254",
   "metadata": {},
   "outputs": [
    {
     "name": "stdout",
     "output_type": "stream",
     "text": [
      "Requirement already satisfied: six in ./opt/anaconda3/lib/python3.9/site-packages (1.16.0)\r\n"
     ]
    }
   ],
   "source": [
    "!pip install six"
   ]
  },
  {
   "cell_type": "code",
   "execution_count": 441,
   "id": "6cabcd8f",
   "metadata": {},
   "outputs": [],
   "source": [
    "import pylab as pl \n",
    "import scipy.optimize as opt\n",
    "from sklearn import preprocessing\n",
    "%matplotlib inline\n",
    "import matplotlib.pyplot as plt \n",
    "from sklearn.model_selection import train_test_split\n",
    "from sklearn.linear_model import LogisticRegression\n",
    "from sklearn.metrics import confusion_matrix\n",
    "from sklearn.metrics import jaccard_score\n",
    "\n",
    "from six import StringIO\n",
    "import six\n",
    "import sys\n",
    "sys.modules['sklearn.externals.six'] = six\n",
    "from sklearn.externals.six import StringIO\n",
    "import pydotplus\n",
    "import matplotlib.image as mpimg\n",
    "from sklearn import tree\n",
    "from sklearn.tree import DecisionTreeClassifier\n",
    "\n",
    "from sklearn import preprocessing\n",
    "from sklearn.preprocessing import MinMaxScaler \n",
    "from sklearn.preprocessing import Binarizer\n",
    "from sklearn.preprocessing import StandardScaler \n",
    "\n",
    " \n",
    "from sklearn.metrics import f1_score\n",
    "from sklearn.metrics import log_loss"
   ]
  },
  {
   "cell_type": "markdown",
   "id": "b9e8e079",
   "metadata": {},
   "source": [
    "# b) Produce the Logistic Regression model. (5 marks)"
   ]
  },
  {
   "cell_type": "code",
   "execution_count": 442,
   "id": "254699e7",
   "metadata": {},
   "outputs": [
    {
     "data": {
      "text/html": [
       "<div>\n",
       "<style scoped>\n",
       "    .dataframe tbody tr th:only-of-type {\n",
       "        vertical-align: middle;\n",
       "    }\n",
       "\n",
       "    .dataframe tbody tr th {\n",
       "        vertical-align: top;\n",
       "    }\n",
       "\n",
       "    .dataframe thead th {\n",
       "        text-align: right;\n",
       "    }\n",
       "</style>\n",
       "<table border=\"1\" class=\"dataframe\">\n",
       "  <thead>\n",
       "    <tr style=\"text-align: right;\">\n",
       "      <th></th>\n",
       "      <th>Year</th>\n",
       "      <th>Country</th>\n",
       "      <th>EVD</th>\n",
       "      <th>Cases</th>\n",
       "      <th>Deaths</th>\n",
       "      <th>Case fatality</th>\n",
       "    </tr>\n",
       "  </thead>\n",
       "  <tbody>\n",
       "    <tr>\n",
       "      <th>2</th>\n",
       "      <td>2020</td>\n",
       "      <td>Democratic Republic of the Congo</td>\n",
       "      <td>Zaire</td>\n",
       "      <td>130</td>\n",
       "      <td>55</td>\n",
       "      <td>42</td>\n",
       "    </tr>\n",
       "    <tr>\n",
       "      <th>4</th>\n",
       "      <td>2018</td>\n",
       "      <td>Democratic Republic of the Congo</td>\n",
       "      <td>Zaire</td>\n",
       "      <td>54</td>\n",
       "      <td>33</td>\n",
       "      <td>61</td>\n",
       "    </tr>\n",
       "    <tr>\n",
       "      <th>5</th>\n",
       "      <td>2017</td>\n",
       "      <td>Democratic Republic of the Congo</td>\n",
       "      <td>Zaire</td>\n",
       "      <td>8</td>\n",
       "      <td>4</td>\n",
       "      <td>50</td>\n",
       "    </tr>\n",
       "    <tr>\n",
       "      <th>6</th>\n",
       "      <td>2015</td>\n",
       "      <td>Italy</td>\n",
       "      <td>Zaire</td>\n",
       "      <td>1</td>\n",
       "      <td>0</td>\n",
       "      <td>0</td>\n",
       "    </tr>\n",
       "    <tr>\n",
       "      <th>7</th>\n",
       "      <td>2014</td>\n",
       "      <td>Spain</td>\n",
       "      <td>Zaire</td>\n",
       "      <td>1</td>\n",
       "      <td>0</td>\n",
       "      <td>0</td>\n",
       "    </tr>\n",
       "  </tbody>\n",
       "</table>\n",
       "</div>"
      ],
      "text/plain": [
       "   Year                             Country      EVD  Cases  Deaths  \\\n",
       "2  2020    Democratic Republic of the Congo    Zaire    130      55   \n",
       "4  2018   Democratic Republic of the Congo   Zaire       54      33   \n",
       "5  2017  Democratic Republic of the Congo    Zaire        8       4   \n",
       "6  2015                              Italy    Zaire       1       0   \n",
       "7  2014                              Spain    Zaire       1       0   \n",
       "\n",
       "   Case fatality   \n",
       "2              42  \n",
       "4              61  \n",
       "5              50  \n",
       "6               0  \n",
       "7               0  "
      ]
     },
     "execution_count": 442,
     "metadata": {},
     "output_type": "execute_result"
    }
   ],
   "source": [
    "df.head()"
   ]
  },
  {
   "cell_type": "code",
   "execution_count": 443,
   "id": "178b78a0",
   "metadata": {},
   "outputs": [
    {
     "data": {
      "text/plain": [
       "array([[130,  55],\n",
       "       [ 54,  33],\n",
       "       [  8,   4],\n",
       "       [  1,   0],\n",
       "       [  1,   0]])"
      ]
     },
     "execution_count": 443,
     "metadata": {},
     "output_type": "execute_result"
    }
   ],
   "source": [
    "X = np.asarray(df[[ 'Cases','Deaths']])\n",
    "X[0:5]"
   ]
  },
  {
   "cell_type": "code",
   "execution_count": null,
   "id": "85cefbd8",
   "metadata": {},
   "outputs": [],
   "source": []
  },
  {
   "cell_type": "code",
   "execution_count": 444,
   "id": "3d8e8125",
   "metadata": {},
   "outputs": [
    {
     "data": {
      "text/plain": [
       "array([2020, 2018, 2017, 2015, 2014])"
      ]
     },
     "execution_count": 444,
     "metadata": {},
     "output_type": "execute_result"
    }
   ],
   "source": [
    "y = np.asarray(df['Year'])\n",
    "y [0:5]"
   ]
  },
  {
   "cell_type": "code",
   "execution_count": 445,
   "id": "59fdf47a",
   "metadata": {},
   "outputs": [
    {
     "data": {
      "text/plain": [
       "array([[ 0.42017583,  0.0703587 ],\n",
       "       [-0.21038423, -0.19553675],\n",
       "       [-0.59203901, -0.5460353 ],\n",
       "       [-0.65011691, -0.59437993],\n",
       "       [-0.65011691, -0.59437993]])"
      ]
     },
     "execution_count": 445,
     "metadata": {},
     "output_type": "execute_result"
    }
   ],
   "source": [
    "X = preprocessing.StandardScaler().fit(X).transform(X)\n",
    "X[0:5]"
   ]
  },
  {
   "cell_type": "code",
   "execution_count": 446,
   "id": "64868b0a",
   "metadata": {},
   "outputs": [
    {
     "name": "stdout",
     "output_type": "stream",
     "text": [
      "Train set: (22, 2) (22,)\n",
      "Test set: (6, 2) (6,)\n"
     ]
    }
   ],
   "source": [
    "X_train, X_test, y_train, y_test = train_test_split( X, y, test_size=0.2,random_state=4)\n",
    "print ('Train set:', X_train.shape, y_train.shape)\n",
    "print ('Test set:', X_test.shape, y_test.shape)"
   ]
  },
  {
   "cell_type": "code",
   "execution_count": 447,
   "id": "9506de5a",
   "metadata": {},
   "outputs": [
    {
     "data": {
      "text/plain": [
       "LogisticRegression(C=0.01, solver='liblinear')"
      ]
     },
     "execution_count": 447,
     "metadata": {},
     "output_type": "execute_result"
    }
   ],
   "source": [
    "LR = LogisticRegression(C=0.01, solver='liblinear').fit(X_train,y_train)\n",
    "LR"
   ]
  },
  {
   "cell_type": "markdown",
   "id": "02b26827",
   "metadata": {},
   "source": [
    "# c) Calculate accuracy of the model and F1 for Logistic Regression. (5 marks)"
   ]
  },
  {
   "cell_type": "code",
   "execution_count": 448,
   "id": "8c530880",
   "metadata": {},
   "outputs": [
    {
     "data": {
      "text/plain": [
       "array([1995, 1995, 2014, 1995, 2014, 2014])"
      ]
     },
     "execution_count": 448,
     "metadata": {},
     "output_type": "execute_result"
    }
   ],
   "source": [
    "yhat = LR.predict(X_test)\n",
    "yhat"
   ]
  },
  {
   "cell_type": "code",
   "execution_count": 449,
   "id": "574867e5",
   "metadata": {},
   "outputs": [
    {
     "data": {
      "text/plain": [
       "array([[0.0693678 , 0.06644771, 0.06600348, 0.07042299, 0.06603032,\n",
       "        0.06619927, 0.06743719, 0.06636864, 0.06603032, 0.06633509,\n",
       "        0.06310335, 0.06602233, 0.06610723, 0.06668688, 0.0674374 ],\n",
       "       [0.06833484, 0.06647761, 0.06630308, 0.06913014, 0.06620674,\n",
       "        0.06631091, 0.06704386, 0.06641751, 0.06620674, 0.06651461,\n",
       "        0.06488508, 0.06620025, 0.06625475, 0.06663057, 0.06708331],\n",
       "       [0.06584375, 0.06652617, 0.06703981, 0.06557339, 0.0666248 ,\n",
       "        0.06658593, 0.06630695, 0.06654654, 0.0666248 , 0.0669621 ,\n",
       "        0.06936233, 0.06662694, 0.06660699, 0.0664701 , 0.06629938],\n",
       "       [0.06913919, 0.06646926, 0.06606055, 0.07040317, 0.066074  ,\n",
       "        0.06622068, 0.06722114, 0.06637298, 0.066074  , 0.06636562,\n",
       "        0.06338659, 0.06606325, 0.0661422 , 0.06669025, 0.06731711],\n",
       "       [0.06579133, 0.06652734, 0.06705519, 0.06550171, 0.06663363,\n",
       "        0.06659165, 0.0662899 , 0.06654915, 0.06663363, 0.06697138,\n",
       "        0.06945553, 0.06663592, 0.06661441, 0.06646687, 0.06628236],\n",
       "       [0.06590933, 0.06652527, 0.06702023, 0.06567294, 0.06661393,\n",
       "        0.06657864, 0.06632351, 0.06654303, 0.06661393, 0.06695015,\n",
       "        0.06924164, 0.06661577, 0.0665978 , 0.06647472, 0.06631912]])"
      ]
     },
     "execution_count": 449,
     "metadata": {},
     "output_type": "execute_result"
    }
   ],
   "source": [
    "yhat_prob = LR.predict_proba(X_test)\n",
    "yhat_prob"
   ]
  },
  {
   "cell_type": "code",
   "execution_count": 450,
   "id": "609decad",
   "metadata": {},
   "outputs": [
    {
     "data": {
      "text/plain": [
       "DecisionTreeClassifier(criterion='entropy', max_depth=7)"
      ]
     },
     "execution_count": 450,
     "metadata": {},
     "output_type": "execute_result"
    }
   ],
   "source": [
    "TelecomTree = DecisionTreeClassifier(criterion=\"entropy\", max_depth = 7)\n",
    "TelecomTree # it shows the default parameters"
   ]
  },
  {
   "cell_type": "code",
   "execution_count": 451,
   "id": "5a34aa37",
   "metadata": {},
   "outputs": [
    {
     "data": {
      "text/plain": [
       "array([[ 0.42017583,  0.0703587 ],\n",
       "       [-0.21038423, -0.19553675],\n",
       "       [-0.59203901, -0.5460353 ],\n",
       "       [-0.65011691, -0.59437993],\n",
       "       [-0.65011691, -0.59437993]])"
      ]
     },
     "execution_count": 451,
     "metadata": {},
     "output_type": "execute_result"
    }
   ],
   "source": [
    "\n",
    "X= preprocessing.StandardScaler().fit(X).transform(X)\n",
    "X[0:5]"
   ]
  },
  {
   "cell_type": "code",
   "execution_count": 452,
   "id": "634ec0ac",
   "metadata": {},
   "outputs": [
    {
     "data": {
      "text/plain": [
       "DecisionTreeClassifier(criterion='entropy', max_depth=7)"
      ]
     },
     "execution_count": 452,
     "metadata": {},
     "output_type": "execute_result"
    }
   ],
   "source": [
    "TelecomTree.fit(X, y)"
   ]
  },
  {
   "cell_type": "code",
   "execution_count": 453,
   "id": "fd79eb3e",
   "metadata": {},
   "outputs": [],
   "source": [
    "predTree = TelecomTree.predict(X_test)"
   ]
  },
  {
   "cell_type": "code",
   "execution_count": 454,
   "id": "e811605a",
   "metadata": {},
   "outputs": [
    {
     "name": "stdout",
     "output_type": "stream",
     "text": [
      "[2000 2007 2012 1976 1977]\n",
      "[2000 2007 2012 1976 1977]\n"
     ]
    }
   ],
   "source": [
    "print (predTree [0:5])\n",
    "print (y_test [0:5])"
   ]
  },
  {
   "cell_type": "code",
   "execution_count": null,
   "id": "0faa9b47",
   "metadata": {},
   "outputs": [],
   "source": []
  },
  {
   "cell_type": "code",
   "execution_count": 455,
   "id": "69fb6c17",
   "metadata": {},
   "outputs": [
    {
     "name": "stdout",
     "output_type": "stream",
     "text": [
      "Accuracy:  1.0\n"
     ]
    }
   ],
   "source": [
    "from sklearn import metrics\n",
    "import matplotlib.pyplot as plt\n",
    "print(\"Accuracy: \", metrics.accuracy_score(y_test, predTree))"
   ]
  },
  {
   "cell_type": "code",
   "execution_count": null,
   "id": "bdc1fcc8",
   "metadata": {},
   "outputs": [],
   "source": []
  },
  {
   "cell_type": "code",
   "execution_count": 459,
   "id": "85adaf76",
   "metadata": {},
   "outputs": [
    {
     "name": "stdout",
     "output_type": "stream",
     "text": [
      "Accuracy is  1.0  F1 is 1.0\n"
     ]
    },
    {
     "data": {
      "text/plain": [
       "array([[1, 0, 0, 0, 0, 0],\n",
       "       [0, 1, 0, 0, 0, 0],\n",
       "       [0, 0, 1, 0, 0, 0],\n",
       "       [0, 0, 0, 1, 0, 0],\n",
       "       [0, 0, 0, 0, 1, 0],\n",
       "       [0, 0, 0, 0, 0, 1]])"
      ]
     },
     "execution_count": 459,
     "metadata": {},
     "output_type": "execute_result"
    }
   ],
   "source": [
    "#tree_jacc_test=metrics.jaccard_score(y_test, predTree)\n",
    "tree_f1_test=metrics.f1_score(y_test, predTree, average ='macro')\n",
    "tree_cnf_matrix = confusion_matrix(y_test, yhat_tree)\n",
    "print(\"Accuracy is \", metrics.accuracy_score(y_test, predTree),\" F1 is\" , tree_f1_test)\n",
    "#print(classification_report(y_test, yhat_tree))\n",
    "tree_cnf_matrix"
   ]
  },
  {
   "cell_type": "code",
   "execution_count": null,
   "id": "3f4d10bc",
   "metadata": {},
   "outputs": [],
   "source": []
  },
  {
   "attachments": {},
   "cell_type": "markdown",
   "id": "451a1b18",
   "metadata": {},
   "source": [
    "# Question Four"
   ]
  },
  {
   "cell_type": "markdown",
   "id": "39974fc4",
   "metadata": {},
   "source": [
    "# a) Import necessary libraries for Support Vector Machine (SVM) algorithm. (5 marks)"
   ]
  },
  {
   "cell_type": "code",
   "execution_count": 460,
   "id": "5fe423e1",
   "metadata": {},
   "outputs": [],
   "source": [
    "import scipy.optimize as opt\n",
    "from sklearn import preprocessing\n",
    "from sklearn.model_selection import train_test_split\n",
    "%matplotlib inline\n",
    "import matplotlib.pyplot as plt"
   ]
  },
  {
   "cell_type": "markdown",
   "id": "78437cb8",
   "metadata": {},
   "source": [
    "# b) Produce the SVM model. (5 marks)"
   ]
  },
  {
   "cell_type": "code",
   "execution_count": 461,
   "id": "96090ded",
   "metadata": {},
   "outputs": [
    {
     "data": {
      "text/plain": [
       "SVC()"
      ]
     },
     "execution_count": 461,
     "metadata": {},
     "output_type": "execute_result"
    }
   ],
   "source": [
    "from sklearn import svm\n",
    "EVDSVM = svm.SVC(kernel='rbf')\n",
    "EVDSVM.fit(X, y)"
   ]
  },
  {
   "cell_type": "code",
   "execution_count": 462,
   "id": "153b7d45",
   "metadata": {},
   "outputs": [
    {
     "ename": "ValueError",
     "evalue": "Target is multiclass but average='binary'. Please choose another average setting, one of [None, 'micro', 'macro', 'weighted'].",
     "output_type": "error",
     "traceback": [
      "\u001b[0;31m---------------------------------------------------------------------------\u001b[0m",
      "\u001b[0;31mValueError\u001b[0m                                Traceback (most recent call last)",
      "Input \u001b[0;32mIn [462]\u001b[0m, in \u001b[0;36m<cell line: 2>\u001b[0;34m()\u001b[0m\n\u001b[1;32m      1\u001b[0m yhat_svm\u001b[38;5;241m=\u001b[39mEVDSVM\u001b[38;5;241m.\u001b[39mpredict(X)\n\u001b[0;32m----> 2\u001b[0m svm_jacc_test\u001b[38;5;241m=\u001b[39m\u001b[43mmetrics\u001b[49m\u001b[38;5;241;43m.\u001b[39;49m\u001b[43mjaccard_score\u001b[49m\u001b[43m(\u001b[49m\u001b[43my\u001b[49m\u001b[43m,\u001b[49m\u001b[43m \u001b[49m\u001b[43myhat_svm\u001b[49m\u001b[43m)\u001b[49m\n\u001b[1;32m      3\u001b[0m svm_f1_test\u001b[38;5;241m=\u001b[39mmetrics\u001b[38;5;241m.\u001b[39mf1_score(y, yhat_svm, average \u001b[38;5;241m=\u001b[39m\u001b[38;5;124m'\u001b[39m\u001b[38;5;124mmacro\u001b[39m\u001b[38;5;124m'\u001b[39m)\n\u001b[1;32m      4\u001b[0m svm_cnf_matrix \u001b[38;5;241m=\u001b[39m confusion_matrix(y, yhat_svm)\n",
      "File \u001b[0;32m~/opt/anaconda3/lib/python3.9/site-packages/sklearn/metrics/_classification.py:790\u001b[0m, in \u001b[0;36mjaccard_score\u001b[0;34m(y_true, y_pred, labels, pos_label, average, sample_weight, zero_division)\u001b[0m\n\u001b[1;32m    667\u001b[0m \u001b[38;5;28;01mdef\u001b[39;00m \u001b[38;5;21mjaccard_score\u001b[39m(\n\u001b[1;32m    668\u001b[0m     y_true,\n\u001b[1;32m    669\u001b[0m     y_pred,\n\u001b[0;32m   (...)\u001b[0m\n\u001b[1;32m    675\u001b[0m     zero_division\u001b[38;5;241m=\u001b[39m\u001b[38;5;124m\"\u001b[39m\u001b[38;5;124mwarn\u001b[39m\u001b[38;5;124m\"\u001b[39m,\n\u001b[1;32m    676\u001b[0m ):\n\u001b[1;32m    677\u001b[0m     \u001b[38;5;124;03m\"\"\"Jaccard similarity coefficient score.\u001b[39;00m\n\u001b[1;32m    678\u001b[0m \n\u001b[1;32m    679\u001b[0m \u001b[38;5;124;03m    The Jaccard index [1], or Jaccard similarity coefficient, defined as\u001b[39;00m\n\u001b[0;32m   (...)\u001b[0m\n\u001b[1;32m    788\u001b[0m \u001b[38;5;124;03m    array([1. , 0. , 0.33...])\u001b[39;00m\n\u001b[1;32m    789\u001b[0m \u001b[38;5;124;03m    \"\"\"\u001b[39;00m\n\u001b[0;32m--> 790\u001b[0m     labels \u001b[38;5;241m=\u001b[39m \u001b[43m_check_set_wise_labels\u001b[49m\u001b[43m(\u001b[49m\u001b[43my_true\u001b[49m\u001b[43m,\u001b[49m\u001b[43m \u001b[49m\u001b[43my_pred\u001b[49m\u001b[43m,\u001b[49m\u001b[43m \u001b[49m\u001b[43maverage\u001b[49m\u001b[43m,\u001b[49m\u001b[43m \u001b[49m\u001b[43mlabels\u001b[49m\u001b[43m,\u001b[49m\u001b[43m \u001b[49m\u001b[43mpos_label\u001b[49m\u001b[43m)\u001b[49m\n\u001b[1;32m    791\u001b[0m     samplewise \u001b[38;5;241m=\u001b[39m average \u001b[38;5;241m==\u001b[39m \u001b[38;5;124m\"\u001b[39m\u001b[38;5;124msamples\u001b[39m\u001b[38;5;124m\"\u001b[39m\n\u001b[1;32m    792\u001b[0m     MCM \u001b[38;5;241m=\u001b[39m multilabel_confusion_matrix(\n\u001b[1;32m    793\u001b[0m         y_true,\n\u001b[1;32m    794\u001b[0m         y_pred,\n\u001b[0;32m   (...)\u001b[0m\n\u001b[1;32m    797\u001b[0m         samplewise\u001b[38;5;241m=\u001b[39msamplewise,\n\u001b[1;32m    798\u001b[0m     )\n",
      "File \u001b[0;32m~/opt/anaconda3/lib/python3.9/site-packages/sklearn/metrics/_classification.py:1365\u001b[0m, in \u001b[0;36m_check_set_wise_labels\u001b[0;34m(y_true, y_pred, average, labels, pos_label)\u001b[0m\n\u001b[1;32m   1363\u001b[0m         \u001b[38;5;28;01mif\u001b[39;00m y_type \u001b[38;5;241m==\u001b[39m \u001b[38;5;124m\"\u001b[39m\u001b[38;5;124mmulticlass\u001b[39m\u001b[38;5;124m\"\u001b[39m:\n\u001b[1;32m   1364\u001b[0m             average_options\u001b[38;5;241m.\u001b[39mremove(\u001b[38;5;124m\"\u001b[39m\u001b[38;5;124msamples\u001b[39m\u001b[38;5;124m\"\u001b[39m)\n\u001b[0;32m-> 1365\u001b[0m         \u001b[38;5;28;01mraise\u001b[39;00m \u001b[38;5;167;01mValueError\u001b[39;00m(\n\u001b[1;32m   1366\u001b[0m             \u001b[38;5;124m\"\u001b[39m\u001b[38;5;124mTarget is \u001b[39m\u001b[38;5;132;01m%s\u001b[39;00m\u001b[38;5;124m but average=\u001b[39m\u001b[38;5;124m'\u001b[39m\u001b[38;5;124mbinary\u001b[39m\u001b[38;5;124m'\u001b[39m\u001b[38;5;124m. Please \u001b[39m\u001b[38;5;124m\"\u001b[39m\n\u001b[1;32m   1367\u001b[0m             \u001b[38;5;124m\"\u001b[39m\u001b[38;5;124mchoose another average setting, one of \u001b[39m\u001b[38;5;132;01m%r\u001b[39;00m\u001b[38;5;124m.\u001b[39m\u001b[38;5;124m\"\u001b[39m \u001b[38;5;241m%\u001b[39m (y_type, average_options)\n\u001b[1;32m   1368\u001b[0m         )\n\u001b[1;32m   1369\u001b[0m \u001b[38;5;28;01melif\u001b[39;00m pos_label \u001b[38;5;129;01mnot\u001b[39;00m \u001b[38;5;129;01min\u001b[39;00m (\u001b[38;5;28;01mNone\u001b[39;00m, \u001b[38;5;241m1\u001b[39m):\n\u001b[1;32m   1370\u001b[0m     warnings\u001b[38;5;241m.\u001b[39mwarn(\n\u001b[1;32m   1371\u001b[0m         \u001b[38;5;124m\"\u001b[39m\u001b[38;5;124mNote that pos_label (set to \u001b[39m\u001b[38;5;132;01m%r\u001b[39;00m\u001b[38;5;124m) is ignored when \u001b[39m\u001b[38;5;124m\"\u001b[39m\n\u001b[1;32m   1372\u001b[0m         \u001b[38;5;124m\"\u001b[39m\u001b[38;5;124maverage != \u001b[39m\u001b[38;5;124m'\u001b[39m\u001b[38;5;124mbinary\u001b[39m\u001b[38;5;124m'\u001b[39m\u001b[38;5;124m (got \u001b[39m\u001b[38;5;132;01m%r\u001b[39;00m\u001b[38;5;124m). You may use \u001b[39m\u001b[38;5;124m\"\u001b[39m\n\u001b[0;32m   (...)\u001b[0m\n\u001b[1;32m   1375\u001b[0m         \u001b[38;5;167;01mUserWarning\u001b[39;00m,\n\u001b[1;32m   1376\u001b[0m     )\n",
      "\u001b[0;31mValueError\u001b[0m: Target is multiclass but average='binary'. Please choose another average setting, one of [None, 'micro', 'macro', 'weighted']."
     ]
    }
   ],
   "source": [
    "yhat_svm=EVDSVM.predict(X)\n",
    "svm_jacc_test=metrics.jaccard_score(y, yhat_svm)\n",
    "svm_f1_test=metrics.f1_score(y, yhat_svm, average ='macro')\n",
    "svm_cnf_matrix = confusion_matrix(y, yhat_svm)\n",
    "print(\"Accuracy is \", svm_jacc_test, \" F1 is\" , svm_f1_test)\n",
    "print(classification_report(y, yhat_svm))\n",
    "svm_cnf_matrix"
   ]
  },
  {
   "cell_type": "code",
   "execution_count": null,
   "id": "0e97aa16",
   "metadata": {},
   "outputs": [],
   "source": []
  },
  {
   "cell_type": "code",
   "execution_count": null,
   "id": "046815ce",
   "metadata": {},
   "outputs": [],
   "source": []
  },
  {
   "cell_type": "code",
   "execution_count": null,
   "id": "c01b26ea",
   "metadata": {},
   "outputs": [],
   "source": []
  },
  {
   "cell_type": "code",
   "execution_count": null,
   "id": "73398664",
   "metadata": {},
   "outputs": [],
   "source": []
  }
 ],
 "metadata": {
  "kernelspec": {
   "display_name": "Python 3 (ipykernel)",
   "language": "python",
   "name": "python3"
  },
  "language_info": {
   "codemirror_mode": {
    "name": "ipython",
    "version": 3
   },
   "file_extension": ".py",
   "mimetype": "text/x-python",
   "name": "python",
   "nbconvert_exporter": "python",
   "pygments_lexer": "ipython3",
   "version": "3.9.12"
  }
 },
 "nbformat": 4,
 "nbformat_minor": 5
}
