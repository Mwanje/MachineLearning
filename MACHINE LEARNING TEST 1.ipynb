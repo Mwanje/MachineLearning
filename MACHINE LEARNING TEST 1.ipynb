{
 "cells": [
  {
   "cell_type": "markdown",
   "id": "767fa83f",
   "metadata": {},
   "source": [
    "# MACHINE LEARNING TEST 1"
   ]
  },
  {
   "cell_type": "code",
   "execution_count": 1,
   "id": "10f37fc4",
   "metadata": {},
   "outputs": [],
   "source": [
    "#Name: Mwanje Musa\n",
    "#Reg No: MAY22/MSC/1615U\n",
    "#Programme: MSc. COMP (CS)"
   ]
  },
  {
   "cell_type": "code",
   "execution_count": 2,
   "id": "660140b2",
   "metadata": {},
   "outputs": [],
   "source": [
    "#defining imports \n",
    "import pandas as pd \n",
    "import numpy as np \n",
    "import requests\n",
    "import matplotlib.pyplot as plt\n",
    "import seaborn as sns\n",
    "import sklearn\n",
    "from sklearn.linear_model import LinearRegression\n",
    "from sklearn import metrics\n",
    "from sklearn.preprocessing import PolynomialFeatures # importing a class for Polynomial Regression\n",
    "plt.style.use('fivethirtyeight')\n",
    "%matplotlib inline"
   ]
  },
  {
   "cell_type": "code",
   "execution_count": 3,
   "id": "ec1d987d",
   "metadata": {},
   "outputs": [
    {
     "data": {
      "text/html": [
       "<div>\n",
       "<style scoped>\n",
       "    .dataframe tbody tr th:only-of-type {\n",
       "        vertical-align: middle;\n",
       "    }\n",
       "\n",
       "    .dataframe tbody tr th {\n",
       "        vertical-align: top;\n",
       "    }\n",
       "\n",
       "    .dataframe thead th {\n",
       "        text-align: right;\n",
       "    }\n",
       "</style>\n",
       "<table border=\"1\" class=\"dataframe\">\n",
       "  <thead>\n",
       "    <tr style=\"text-align: right;\">\n",
       "      <th></th>\n",
       "      <th>Year</th>\n",
       "      <th>Population</th>\n",
       "      <th>Yearly % Change</th>\n",
       "      <th>Yearly Change</th>\n",
       "      <th>Migrants (net)</th>\n",
       "      <th>Median Age</th>\n",
       "      <th>Fertility Rate</th>\n",
       "      <th>Density (P/Km²)</th>\n",
       "      <th>Urban Pop %</th>\n",
       "      <th>Urban Population</th>\n",
       "      <th>Country's Share of World Pop</th>\n",
       "      <th>World Population</th>\n",
       "      <th>UgandaGlobal Rank</th>\n",
       "    </tr>\n",
       "  </thead>\n",
       "  <tbody>\n",
       "    <tr>\n",
       "      <th>0</th>\n",
       "      <td>2020</td>\n",
       "      <td>45741007</td>\n",
       "      <td>3.32</td>\n",
       "      <td>1471413</td>\n",
       "      <td>168694</td>\n",
       "      <td>16.7</td>\n",
       "      <td>5.01</td>\n",
       "      <td>229</td>\n",
       "      <td>25.7</td>\n",
       "      <td>11775012</td>\n",
       "      <td>0.59</td>\n",
       "      <td>7794798739</td>\n",
       "      <td>31</td>\n",
       "    </tr>\n",
       "    <tr>\n",
       "      <th>1</th>\n",
       "      <td>2019</td>\n",
       "      <td>44269594</td>\n",
       "      <td>3.61</td>\n",
       "      <td>1540558</td>\n",
       "      <td>168694</td>\n",
       "      <td>16.1</td>\n",
       "      <td>5.62</td>\n",
       "      <td>222</td>\n",
       "      <td>25.2</td>\n",
       "      <td>11135655</td>\n",
       "      <td>0.57</td>\n",
       "      <td>7713468100</td>\n",
       "      <td>32</td>\n",
       "    </tr>\n",
       "    <tr>\n",
       "      <th>2</th>\n",
       "      <td>2018</td>\n",
       "      <td>42729036</td>\n",
       "      <td>3.80</td>\n",
       "      <td>1562448</td>\n",
       "      <td>168694</td>\n",
       "      <td>16.1</td>\n",
       "      <td>5.62</td>\n",
       "      <td>214</td>\n",
       "      <td>24.6</td>\n",
       "      <td>10525083</td>\n",
       "      <td>0.56</td>\n",
       "      <td>7631091040</td>\n",
       "      <td>33</td>\n",
       "    </tr>\n",
       "    <tr>\n",
       "      <th>3</th>\n",
       "      <td>2017</td>\n",
       "      <td>41166588</td>\n",
       "      <td>3.83</td>\n",
       "      <td>1517422</td>\n",
       "      <td>168694</td>\n",
       "      <td>16.1</td>\n",
       "      <td>5.62</td>\n",
       "      <td>206</td>\n",
       "      <td>24.2</td>\n",
       "      <td>9942312</td>\n",
       "      <td>0.55</td>\n",
       "      <td>7547858925</td>\n",
       "      <td>34</td>\n",
       "    </tr>\n",
       "    <tr>\n",
       "      <th>4</th>\n",
       "      <td>2016</td>\n",
       "      <td>39649166</td>\n",
       "      <td>3.72</td>\n",
       "      <td>1423713</td>\n",
       "      <td>168694</td>\n",
       "      <td>16.1</td>\n",
       "      <td>5.62</td>\n",
       "      <td>198</td>\n",
       "      <td>23.7</td>\n",
       "      <td>9386309</td>\n",
       "      <td>0.53</td>\n",
       "      <td>7464022049</td>\n",
       "      <td>35</td>\n",
       "    </tr>\n",
       "    <tr>\n",
       "      <th>5</th>\n",
       "      <td>2015</td>\n",
       "      <td>38225453</td>\n",
       "      <td>3.34</td>\n",
       "      <td>1159457</td>\n",
       "      <td>-59999</td>\n",
       "      <td>15.9</td>\n",
       "      <td>5.78</td>\n",
       "      <td>191</td>\n",
       "      <td>23.2</td>\n",
       "      <td>8855831</td>\n",
       "      <td>0.52</td>\n",
       "      <td>7379797139</td>\n",
       "      <td>35</td>\n",
       "    </tr>\n",
       "    <tr>\n",
       "      <th>6</th>\n",
       "      <td>2010</td>\n",
       "      <td>32428167</td>\n",
       "      <td>3.21</td>\n",
       "      <td>948716</td>\n",
       "      <td>-100000</td>\n",
       "      <td>15.4</td>\n",
       "      <td>6.38</td>\n",
       "      <td>162</td>\n",
       "      <td>20.3</td>\n",
       "      <td>6573772</td>\n",
       "      <td>0.47</td>\n",
       "      <td>6956823603</td>\n",
       "      <td>37</td>\n",
       "    </tr>\n",
       "    <tr>\n",
       "      <th>7</th>\n",
       "      <td>2005</td>\n",
       "      <td>27684585</td>\n",
       "      <td>3.20</td>\n",
       "      <td>806883</td>\n",
       "      <td>-50000</td>\n",
       "      <td>15.2</td>\n",
       "      <td>6.75</td>\n",
       "      <td>139</td>\n",
       "      <td>17.5</td>\n",
       "      <td>4841176</td>\n",
       "      <td>0.42</td>\n",
       "      <td>6541907027</td>\n",
       "      <td>39</td>\n",
       "    </tr>\n",
       "    <tr>\n",
       "      <th>8</th>\n",
       "      <td>2000</td>\n",
       "      <td>23650172</td>\n",
       "      <td>2.99</td>\n",
       "      <td>647404</td>\n",
       "      <td>-36000</td>\n",
       "      <td>15.2</td>\n",
       "      <td>6.95</td>\n",
       "      <td>118</td>\n",
       "      <td>15.0</td>\n",
       "      <td>3554371</td>\n",
       "      <td>0.38</td>\n",
       "      <td>6143493823</td>\n",
       "      <td>42</td>\n",
       "    </tr>\n",
       "    <tr>\n",
       "      <th>9</th>\n",
       "      <td>1995</td>\n",
       "      <td>20413152</td>\n",
       "      <td>3.30</td>\n",
       "      <td>611752</td>\n",
       "      <td>22000</td>\n",
       "      <td>15.5</td>\n",
       "      <td>7.06</td>\n",
       "      <td>102</td>\n",
       "      <td>12.9</td>\n",
       "      <td>2639817</td>\n",
       "      <td>0.36</td>\n",
       "      <td>5744212979</td>\n",
       "      <td>46</td>\n",
       "    </tr>\n",
       "    <tr>\n",
       "      <th>10</th>\n",
       "      <td>1990</td>\n",
       "      <td>17354392</td>\n",
       "      <td>3.57</td>\n",
       "      <td>559007</td>\n",
       "      <td>40000</td>\n",
       "      <td>15.9</td>\n",
       "      <td>7.10</td>\n",
       "      <td>87</td>\n",
       "      <td>11.1</td>\n",
       "      <td>1931504</td>\n",
       "      <td>0.33</td>\n",
       "      <td>5327231061</td>\n",
       "      <td>47</td>\n",
       "    </tr>\n",
       "    <tr>\n",
       "      <th>11</th>\n",
       "      <td>1985</td>\n",
       "      <td>14559355</td>\n",
       "      <td>3.19</td>\n",
       "      <td>423404</td>\n",
       "      <td>-24000</td>\n",
       "      <td>16.3</td>\n",
       "      <td>7.10</td>\n",
       "      <td>73</td>\n",
       "      <td>9.2</td>\n",
       "      <td>1340406</td>\n",
       "      <td>0.30</td>\n",
       "      <td>4870921740</td>\n",
       "      <td>50</td>\n",
       "    </tr>\n",
       "    <tr>\n",
       "      <th>12</th>\n",
       "      <td>1980</td>\n",
       "      <td>12442334</td>\n",
       "      <td>2.99</td>\n",
       "      <td>340986</td>\n",
       "      <td>-36000</td>\n",
       "      <td>16.4</td>\n",
       "      <td>7.10</td>\n",
       "      <td>62</td>\n",
       "      <td>7.6</td>\n",
       "      <td>945460</td>\n",
       "      <td>0.28</td>\n",
       "      <td>4458003514</td>\n",
       "      <td>52</td>\n",
       "    </tr>\n",
       "    <tr>\n",
       "      <th>13</th>\n",
       "      <td>1975</td>\n",
       "      <td>10737403</td>\n",
       "      <td>2.68</td>\n",
       "      <td>266361</td>\n",
       "      <td>-55222</td>\n",
       "      <td>16.5</td>\n",
       "      <td>7.10</td>\n",
       "      <td>54</td>\n",
       "      <td>7.1</td>\n",
       "      <td>762275</td>\n",
       "      <td>0.26</td>\n",
       "      <td>4079480606</td>\n",
       "      <td>52</td>\n",
       "    </tr>\n",
       "    <tr>\n",
       "      <th>14</th>\n",
       "      <td>1970</td>\n",
       "      <td>9405600</td>\n",
       "      <td>3.33</td>\n",
       "      <td>283907</td>\n",
       "      <td>10001</td>\n",
       "      <td>16.5</td>\n",
       "      <td>7.12</td>\n",
       "      <td>47</td>\n",
       "      <td>6.7</td>\n",
       "      <td>629441</td>\n",
       "      <td>0.25</td>\n",
       "      <td>3700437046</td>\n",
       "      <td>56</td>\n",
       "    </tr>\n",
       "    <tr>\n",
       "      <th>15</th>\n",
       "      <td>1965</td>\n",
       "      <td>7986066</td>\n",
       "      <td>3.37</td>\n",
       "      <td>243794</td>\n",
       "      <td>25000</td>\n",
       "      <td>16.8</td>\n",
       "      <td>7.05</td>\n",
       "      <td>40</td>\n",
       "      <td>5.5</td>\n",
       "      <td>441548</td>\n",
       "      <td>0.24</td>\n",
       "      <td>3339583597</td>\n",
       "      <td>65</td>\n",
       "    </tr>\n",
       "    <tr>\n",
       "      <th>16</th>\n",
       "      <td>1960</td>\n",
       "      <td>6767095</td>\n",
       "      <td>2.82</td>\n",
       "      <td>175660</td>\n",
       "      <td>0</td>\n",
       "      <td>17.1</td>\n",
       "      <td>6.95</td>\n",
       "      <td>34</td>\n",
       "      <td>4.4</td>\n",
       "      <td>299817</td>\n",
       "      <td>0.22</td>\n",
       "      <td>3034949748</td>\n",
       "      <td>65</td>\n",
       "    </tr>\n",
       "    <tr>\n",
       "      <th>17</th>\n",
       "      <td>1955</td>\n",
       "      <td>5888793</td>\n",
       "      <td>2.68</td>\n",
       "      <td>146121</td>\n",
       "      <td>0</td>\n",
       "      <td>17.8</td>\n",
       "      <td>6.90</td>\n",
       "      <td>29</td>\n",
       "      <td>3.5</td>\n",
       "      <td>208359</td>\n",
       "      <td>0.21</td>\n",
       "      <td>2773019936</td>\n",
       "      <td>65</td>\n",
       "    </tr>\n",
       "  </tbody>\n",
       "</table>\n",
       "</div>"
      ],
      "text/plain": [
       "    Year  Population Yearly % Change  Yearly Change  Migrants (net)  \\\n",
       "0   2020    45741007           3.32         1471413          168694   \n",
       "1   2019    44269594           3.61         1540558          168694   \n",
       "2   2018    42729036           3.80         1562448          168694   \n",
       "3   2017    41166588           3.83         1517422          168694   \n",
       "4   2016    39649166           3.72         1423713          168694   \n",
       "5   2015    38225453           3.34         1159457          -59999   \n",
       "6   2010    32428167           3.21          948716         -100000   \n",
       "7   2005    27684585           3.20          806883          -50000   \n",
       "8   2000    23650172           2.99          647404          -36000   \n",
       "9   1995    20413152           3.30          611752           22000   \n",
       "10  1990    17354392           3.57          559007           40000   \n",
       "11  1985    14559355           3.19          423404          -24000   \n",
       "12  1980    12442334           2.99          340986          -36000   \n",
       "13  1975    10737403           2.68          266361          -55222   \n",
       "14  1970     9405600           3.33          283907           10001   \n",
       "15  1965     7986066           3.37          243794           25000   \n",
       "16  1960     6767095           2.82          175660               0   \n",
       "17  1955     5888793           2.68          146121               0   \n",
       "\n",
       "    Median Age  Fertility Rate  Density (P/Km²) Urban Pop %  Urban Population  \\\n",
       "0         16.7            5.01              229       25.7           11775012   \n",
       "1         16.1            5.62              222       25.2           11135655   \n",
       "2         16.1            5.62              214       24.6           10525083   \n",
       "3         16.1            5.62              206       24.2            9942312   \n",
       "4         16.1            5.62              198       23.7            9386309   \n",
       "5         15.9            5.78              191       23.2            8855831   \n",
       "6         15.4            6.38              162       20.3            6573772   \n",
       "7         15.2            6.75              139       17.5            4841176   \n",
       "8         15.2            6.95              118       15.0            3554371   \n",
       "9         15.5            7.06              102       12.9            2639817   \n",
       "10        15.9            7.10               87       11.1            1931504   \n",
       "11        16.3            7.10               73        9.2            1340406   \n",
       "12        16.4            7.10               62        7.6             945460   \n",
       "13        16.5            7.10               54        7.1             762275   \n",
       "14        16.5            7.12               47        6.7             629441   \n",
       "15        16.8            7.05               40        5.5             441548   \n",
       "16        17.1            6.95               34        4.4             299817   \n",
       "17        17.8            6.90               29        3.5             208359   \n",
       "\n",
       "   Country's Share of World Pop  World Population  UgandaGlobal Rank  \n",
       "0                         0.59         7794798739                 31  \n",
       "1                         0.57         7713468100                 32  \n",
       "2                         0.56         7631091040                 33  \n",
       "3                         0.55         7547858925                 34  \n",
       "4                         0.53         7464022049                 35  \n",
       "5                         0.52         7379797139                 35  \n",
       "6                         0.47         6956823603                 37  \n",
       "7                         0.42         6541907027                 39  \n",
       "8                         0.38         6143493823                 42  \n",
       "9                         0.36         5744212979                 46  \n",
       "10                        0.33         5327231061                 47  \n",
       "11                        0.30         4870921740                 50  \n",
       "12                        0.28         4458003514                 52  \n",
       "13                        0.26         4079480606                 52  \n",
       "14                        0.25         3700437046                 56  \n",
       "15                        0.24         3339583597                 65  \n",
       "16                        0.22         3034949748                 65  \n",
       "17                        0.21         2773019936                 65  "
      ]
     },
     "execution_count": 3,
     "metadata": {},
     "output_type": "execute_result"
    }
   ],
   "source": [
    "#read data from url\n",
    "data = requests.get('https://www.worldometers.info/world-population/uganda-population/')\n",
    "data_tables = pd.read_html(data.text)\n",
    "#reading the data set for Population of Uganda\n",
    "table_df = data_tables[1]\n",
    "#removing % sign\n",
    "cols = ['Yearly % Change','Urban Pop %',\"Country's Share of World Pop\"]\n",
    "table_df[cols] = table_df[cols].replace({'%': ''}, regex=True)\n",
    "table_df"
   ]
  },
  {
   "cell_type": "markdown",
   "id": "6adfb98c",
   "metadata": {},
   "source": [
    "# (a) Simple Linear Regression"
   ]
  },
  {
   "cell_type": "code",
   "execution_count": 4,
   "id": "c1f33f2f",
   "metadata": {},
   "outputs": [],
   "source": [
    "# dependent variable for y axis\n",
    "y = table_df['Population']\n",
    "# independent variable for x axis\n",
    "x = np.c_[table_df['Year']]"
   ]
  },
  {
   "cell_type": "code",
   "execution_count": 5,
   "id": "04685182",
   "metadata": {},
   "outputs": [
    {
     "name": "stdout",
     "output_type": "stream",
     "text": [
      "The slope of line is: [631121.5758218]\n",
      "The y-intercept is: -1234056167.0068686\n"
     ]
    }
   ],
   "source": [
    "#fitting a simple regression model for predicting popluation using year\n",
    "lm = LinearRegression()\n",
    "lm_model = lm.fit(x,y)\n",
    "\n",
    "print ('The slope of line is:', lm_model.coef_)\n",
    "print ('The y-intercept is:',lm_model.intercept_)"
   ]
  },
  {
   "cell_type": "code",
   "execution_count": 6,
   "id": "219265bd",
   "metadata": {},
   "outputs": [
    {
     "data": {
      "text/plain": [
       "array([45858388.7597487])"
      ]
     },
     "execution_count": 6,
     "metadata": {},
     "output_type": "execute_result"
    }
   ],
   "source": [
    "#prediction\n",
    "year_X = np.c_[2028]\n",
    "pred_model = lm.predict(year_X)\n",
    "pred_model"
   ]
  },
  {
   "cell_type": "markdown",
   "id": "980061d6",
   "metadata": {},
   "source": [
    "## Evaluating the model"
   ]
  },
  {
   "cell_type": "code",
   "execution_count": 7,
   "id": "0d744726",
   "metadata": {},
   "outputs": [
    {
     "name": "stdout",
     "output_type": "stream",
     "text": [
      "MAE 45856360.7597487\n",
      "RMSE 45856360.7597487\n"
     ]
    }
   ],
   "source": [
    "print('MAE', metrics.mean_absolute_error(pred_model,year_X))\n",
    "print('RMSE',np.sqrt(metrics.mean_squared_error(pred_model,year_X)))"
   ]
  },
  {
   "cell_type": "markdown",
   "id": "f4754c2f",
   "metadata": {},
   "source": [
    "# (b) Multiple Linear Regression"
   ]
  },
  {
   "cell_type": "code",
   "execution_count": 8,
   "id": "b1f790fa",
   "metadata": {},
   "outputs": [],
   "source": [
    "#creating X instance representing input variable (minus year)\n",
    "X = table_df.drop('Year',axis = 1)"
   ]
  },
  {
   "cell_type": "code",
   "execution_count": 9,
   "id": "a8b804e6",
   "metadata": {},
   "outputs": [],
   "source": [
    "multiple_model = lm.fit(X,table_df.Year)"
   ]
  },
  {
   "cell_type": "code",
   "execution_count": 10,
   "id": "67df0481",
   "metadata": {},
   "outputs": [
    {
     "data": {
      "text/html": [
       "<div>\n",
       "<style scoped>\n",
       "    .dataframe tbody tr th:only-of-type {\n",
       "        vertical-align: middle;\n",
       "    }\n",
       "\n",
       "    .dataframe tbody tr th {\n",
       "        vertical-align: top;\n",
       "    }\n",
       "\n",
       "    .dataframe thead th {\n",
       "        text-align: right;\n",
       "    }\n",
       "</style>\n",
       "<table border=\"1\" class=\"dataframe\">\n",
       "  <thead>\n",
       "    <tr style=\"text-align: right;\">\n",
       "      <th></th>\n",
       "      <th>Variables</th>\n",
       "      <th>estimated_coefficient</th>\n",
       "    </tr>\n",
       "  </thead>\n",
       "  <tbody>\n",
       "    <tr>\n",
       "      <th>0</th>\n",
       "      <td>Population</td>\n",
       "      <td>-4.243462e-06</td>\n",
       "    </tr>\n",
       "    <tr>\n",
       "      <th>1</th>\n",
       "      <td>Yearly % Change</td>\n",
       "      <td>9.406280e-01</td>\n",
       "    </tr>\n",
       "    <tr>\n",
       "      <th>2</th>\n",
       "      <td>Yearly Change</td>\n",
       "      <td>4.357248e-07</td>\n",
       "    </tr>\n",
       "    <tr>\n",
       "      <th>3</th>\n",
       "      <td>Migrants (net)</td>\n",
       "      <td>-3.025733e-06</td>\n",
       "    </tr>\n",
       "    <tr>\n",
       "      <th>4</th>\n",
       "      <td>Median Age</td>\n",
       "      <td>-3.196686e+00</td>\n",
       "    </tr>\n",
       "    <tr>\n",
       "      <th>5</th>\n",
       "      <td>Fertility Rate</td>\n",
       "      <td>-2.652398e+00</td>\n",
       "    </tr>\n",
       "    <tr>\n",
       "      <th>6</th>\n",
       "      <td>Density (P/Km²)</td>\n",
       "      <td>2.791892e-01</td>\n",
       "    </tr>\n",
       "    <tr>\n",
       "      <th>7</th>\n",
       "      <td>Urban Pop %</td>\n",
       "      <td>-1.168154e+00</td>\n",
       "    </tr>\n",
       "    <tr>\n",
       "      <th>8</th>\n",
       "      <td>Urban Population</td>\n",
       "      <td>6.675358e-06</td>\n",
       "    </tr>\n",
       "    <tr>\n",
       "      <th>9</th>\n",
       "      <td>Country's Share of World Pop</td>\n",
       "      <td>1.384097e+01</td>\n",
       "    </tr>\n",
       "    <tr>\n",
       "      <th>10</th>\n",
       "      <td>World Population</td>\n",
       "      <td>2.186917e-08</td>\n",
       "    </tr>\n",
       "    <tr>\n",
       "      <th>11</th>\n",
       "      <td>UgandaGlobal Rank</td>\n",
       "      <td>-7.611256e-02</td>\n",
       "    </tr>\n",
       "  </tbody>\n",
       "</table>\n",
       "</div>"
      ],
      "text/plain": [
       "                       Variables  estimated_coefficient\n",
       "0                     Population          -4.243462e-06\n",
       "1                Yearly % Change           9.406280e-01\n",
       "2                  Yearly Change           4.357248e-07\n",
       "3                 Migrants (net)          -3.025733e-06\n",
       "4                     Median Age          -3.196686e+00\n",
       "5                 Fertility Rate          -2.652398e+00\n",
       "6                Density (P/Km²)           2.791892e-01\n",
       "7                    Urban Pop %          -1.168154e+00\n",
       "8               Urban Population           6.675358e-06\n",
       "9   Country's Share of World Pop           1.384097e+01\n",
       "10              World Population           2.186917e-08\n",
       "11             UgandaGlobal Rank          -7.611256e-02"
      ]
     },
     "execution_count": 10,
     "metadata": {},
     "output_type": "execute_result"
    }
   ],
   "source": [
    "pd.DataFrame(zip(X.columns,multiple_model.coef_),columns = ['Variables','estimated_coefficient'])"
   ]
  },
  {
   "cell_type": "code",
   "execution_count": 11,
   "id": "84639d46",
   "metadata": {},
   "outputs": [
    {
     "name": "stdout",
     "output_type": "stream",
     "text": [
      "The y-intercept of the multiple regression model: 1988.6412777372707\n"
     ]
    }
   ],
   "source": [
    "print ('The y-intercept of the multiple regression model:',multiple_model.intercept_)"
   ]
  },
  {
   "cell_type": "markdown",
   "id": "42d3f99d",
   "metadata": {},
   "source": [
    "# (c) Order 2 polynomial Regression\n",
    "\n",
    "## Fitting a polynomial model order 2 with all the variables"
   ]
  },
  {
   "cell_type": "code",
   "execution_count": 12,
   "id": "45c7db4a",
   "metadata": {},
   "outputs": [],
   "source": [
    "#polynomial model of order 2\n",
    "poly_lm = PolynomialFeatures(degree = 2)\n",
    "#transforming the features to the polynomial form\n",
    "X_poly = poly_lm.fit_transform(X) \n",
    "#creating a linear regression object\n",
    "lin_reg_2 = LinearRegression() \n",
    "#fits the linear regression object to the polynomial features\n",
    "poly_model = lin_reg_2.fit(X_poly, y)  "
   ]
  },
  {
   "cell_type": "code",
   "execution_count": 13,
   "id": "a47c88f9",
   "metadata": {},
   "outputs": [
    {
     "data": {
      "text/html": [
       "<div>\n",
       "<style scoped>\n",
       "    .dataframe tbody tr th:only-of-type {\n",
       "        vertical-align: middle;\n",
       "    }\n",
       "\n",
       "    .dataframe tbody tr th {\n",
       "        vertical-align: top;\n",
       "    }\n",
       "\n",
       "    .dataframe thead th {\n",
       "        text-align: right;\n",
       "    }\n",
       "</style>\n",
       "<table border=\"1\" class=\"dataframe\">\n",
       "  <thead>\n",
       "    <tr style=\"text-align: right;\">\n",
       "      <th></th>\n",
       "      <th>Variables</th>\n",
       "      <th>estimated_coefficient</th>\n",
       "    </tr>\n",
       "  </thead>\n",
       "  <tbody>\n",
       "    <tr>\n",
       "      <th>0</th>\n",
       "      <td>Population</td>\n",
       "      <td>-8.556129e-12</td>\n",
       "    </tr>\n",
       "    <tr>\n",
       "      <th>1</th>\n",
       "      <td>Yearly % Change</td>\n",
       "      <td>5.121625e-09</td>\n",
       "    </tr>\n",
       "    <tr>\n",
       "      <th>2</th>\n",
       "      <td>Yearly Change</td>\n",
       "      <td>-1.748991e-14</td>\n",
       "    </tr>\n",
       "    <tr>\n",
       "      <th>3</th>\n",
       "      <td>Migrants (net)</td>\n",
       "      <td>2.129113e-10</td>\n",
       "    </tr>\n",
       "    <tr>\n",
       "      <th>4</th>\n",
       "      <td>Median Age</td>\n",
       "      <td>2.216553e-12</td>\n",
       "    </tr>\n",
       "    <tr>\n",
       "      <th>5</th>\n",
       "      <td>Fertility Rate</td>\n",
       "      <td>-7.207812e-15</td>\n",
       "    </tr>\n",
       "    <tr>\n",
       "      <th>6</th>\n",
       "      <td>Density (P/Km²)</td>\n",
       "      <td>5.255077e-16</td>\n",
       "    </tr>\n",
       "    <tr>\n",
       "      <th>7</th>\n",
       "      <td>Urban Pop %</td>\n",
       "      <td>1.869097e-14</td>\n",
       "    </tr>\n",
       "    <tr>\n",
       "      <th>8</th>\n",
       "      <td>Urban Population</td>\n",
       "      <td>1.095292e-14</td>\n",
       "    </tr>\n",
       "    <tr>\n",
       "      <th>9</th>\n",
       "      <td>Country's Share of World Pop</td>\n",
       "      <td>6.837140e-10</td>\n",
       "    </tr>\n",
       "    <tr>\n",
       "      <th>10</th>\n",
       "      <td>World Population</td>\n",
       "      <td>1.702374e-16</td>\n",
       "    </tr>\n",
       "    <tr>\n",
       "      <th>11</th>\n",
       "      <td>UgandaGlobal Rank</td>\n",
       "      <td>1.149674e-06</td>\n",
       "    </tr>\n",
       "  </tbody>\n",
       "</table>\n",
       "</div>"
      ],
      "text/plain": [
       "                       Variables  estimated_coefficient\n",
       "0                     Population          -8.556129e-12\n",
       "1                Yearly % Change           5.121625e-09\n",
       "2                  Yearly Change          -1.748991e-14\n",
       "3                 Migrants (net)           2.129113e-10\n",
       "4                     Median Age           2.216553e-12\n",
       "5                 Fertility Rate          -7.207812e-15\n",
       "6                Density (P/Km²)           5.255077e-16\n",
       "7                    Urban Pop %           1.869097e-14\n",
       "8               Urban Population           1.095292e-14\n",
       "9   Country's Share of World Pop           6.837140e-10\n",
       "10              World Population           1.702374e-16\n",
       "11             UgandaGlobal Rank           1.149674e-06"
      ]
     },
     "execution_count": 13,
     "metadata": {},
     "output_type": "execute_result"
    }
   ],
   "source": [
    "pd.DataFrame(zip(X.columns,poly_model.coef_),columns = ['Variables','estimated_coefficient'])"
   ]
  },
  {
   "cell_type": "code",
   "execution_count": 14,
   "id": "594881cd",
   "metadata": {},
   "outputs": [
    {
     "name": "stdout",
     "output_type": "stream",
     "text": [
      "The y-intercept of the order 2 polynomial regression model: 100240.31366784126\n"
     ]
    }
   ],
   "source": [
    "print ('The y-intercept of the order 2 polynomial regression model:',poly_model.intercept_)"
   ]
  },
  {
   "cell_type": "markdown",
   "id": "23eede71",
   "metadata": {},
   "source": [
    "## Fitting a polynomial model order 2 with only year as the input variable"
   ]
  },
  {
   "cell_type": "code",
   "execution_count": 15,
   "id": "5611156f",
   "metadata": {},
   "outputs": [
    {
     "name": "stdout",
     "output_type": "stream",
     "text": [
      "The y-intercept of the order 2 polynomial regression model: 36654917876.36128\n"
     ]
    }
   ],
   "source": [
    "#polynomial model of order 2\n",
    "poly_lm = PolynomialFeatures(degree = 2)\n",
    "#transforming the features to the polynomial form\n",
    "x_poly = poly_lm.fit_transform(x) \n",
    "#creating a linear regression object\n",
    "lin_reg_2 = LinearRegression() \n",
    "#fits the linear regression object to the polynomial features\n",
    "poly_model_year = lin_reg_2.fit(x_poly, y)\n",
    "\n",
    "print ('The y-intercept of the order 2 polynomial regression model:',poly_model_year.intercept_)"
   ]
  },
  {
   "cell_type": "markdown",
   "id": "954ef298",
   "metadata": {},
   "source": [
    "## Prediction and Evaluation"
   ]
  },
  {
   "cell_type": "code",
   "execution_count": 16,
   "id": "8b0a7e11",
   "metadata": {},
   "outputs": [
    {
     "data": {
      "text/plain": [
       "array([54838992.54730225])"
      ]
     },
     "execution_count": 16,
     "metadata": {},
     "output_type": "execute_result"
    }
   ],
   "source": [
    "poly_2_pred = lin_reg_2.predict(poly_lm.fit_transform([[2028]]))\n",
    "poly_2_pred"
   ]
  },
  {
   "cell_type": "markdown",
   "id": "07eb724f",
   "metadata": {},
   "source": [
    "# (d) Order 3 polynomial Regression\n",
    "\n",
    "## Fitting a polynomial model order 3 with all the variables"
   ]
  },
  {
   "cell_type": "code",
   "execution_count": 17,
   "id": "dc13bfe0",
   "metadata": {},
   "outputs": [],
   "source": [
    "#polynomial model of order 3\n",
    "poly_lm = PolynomialFeatures(degree = 3)\n",
    "#transforming the features to the polynomial form\n",
    "X_poly = poly_lm.fit_transform(X) \n",
    "#creating a linear regression object\n",
    "lin_reg_3 = LinearRegression() \n",
    "#fits the linear regression object to the polynomial features\n",
    "poly_model_3 = lin_reg_3.fit(X_poly, y) "
   ]
  },
  {
   "cell_type": "code",
   "execution_count": 18,
   "id": "7a9273e1",
   "metadata": {
    "scrolled": true
   },
   "outputs": [
    {
     "data": {
      "text/html": [
       "<div>\n",
       "<style scoped>\n",
       "    .dataframe tbody tr th:only-of-type {\n",
       "        vertical-align: middle;\n",
       "    }\n",
       "\n",
       "    .dataframe tbody tr th {\n",
       "        vertical-align: top;\n",
       "    }\n",
       "\n",
       "    .dataframe thead th {\n",
       "        text-align: right;\n",
       "    }\n",
       "</style>\n",
       "<table border=\"1\" class=\"dataframe\">\n",
       "  <thead>\n",
       "    <tr style=\"text-align: right;\">\n",
       "      <th></th>\n",
       "      <th>Variables</th>\n",
       "      <th>estimated_coefficient</th>\n",
       "    </tr>\n",
       "  </thead>\n",
       "  <tbody>\n",
       "    <tr>\n",
       "      <th>0</th>\n",
       "      <td>Population</td>\n",
       "      <td>-1.406976e-20</td>\n",
       "    </tr>\n",
       "    <tr>\n",
       "      <th>1</th>\n",
       "      <td>Yearly % Change</td>\n",
       "      <td>1.037902e-22</td>\n",
       "    </tr>\n",
       "    <tr>\n",
       "      <th>2</th>\n",
       "      <td>Yearly Change</td>\n",
       "      <td>-3.089594e-22</td>\n",
       "    </tr>\n",
       "    <tr>\n",
       "      <th>3</th>\n",
       "      <td>Migrants (net)</td>\n",
       "      <td>-9.658610e-23</td>\n",
       "    </tr>\n",
       "    <tr>\n",
       "      <th>4</th>\n",
       "      <td>Median Age</td>\n",
       "      <td>-1.001739e-24</td>\n",
       "    </tr>\n",
       "    <tr>\n",
       "      <th>5</th>\n",
       "      <td>Fertility Rate</td>\n",
       "      <td>-1.169410e-24</td>\n",
       "    </tr>\n",
       "    <tr>\n",
       "      <th>6</th>\n",
       "      <td>Density (P/Km²)</td>\n",
       "      <td>5.461960e-26</td>\n",
       "    </tr>\n",
       "    <tr>\n",
       "      <th>7</th>\n",
       "      <td>Urban Pop %</td>\n",
       "      <td>8.168031e-25</td>\n",
       "    </tr>\n",
       "    <tr>\n",
       "      <th>8</th>\n",
       "      <td>Urban Population</td>\n",
       "      <td>2.846501e-28</td>\n",
       "    </tr>\n",
       "    <tr>\n",
       "      <th>9</th>\n",
       "      <td>Country's Share of World Pop</td>\n",
       "      <td>-5.198717e-27</td>\n",
       "    </tr>\n",
       "    <tr>\n",
       "      <th>10</th>\n",
       "      <td>World Population</td>\n",
       "      <td>1.117007e-26</td>\n",
       "    </tr>\n",
       "    <tr>\n",
       "      <th>11</th>\n",
       "      <td>UgandaGlobal Rank</td>\n",
       "      <td>1.118866e-25</td>\n",
       "    </tr>\n",
       "  </tbody>\n",
       "</table>\n",
       "</div>"
      ],
      "text/plain": [
       "                       Variables  estimated_coefficient\n",
       "0                     Population          -1.406976e-20\n",
       "1                Yearly % Change           1.037902e-22\n",
       "2                  Yearly Change          -3.089594e-22\n",
       "3                 Migrants (net)          -9.658610e-23\n",
       "4                     Median Age          -1.001739e-24\n",
       "5                 Fertility Rate          -1.169410e-24\n",
       "6                Density (P/Km²)           5.461960e-26\n",
       "7                    Urban Pop %           8.168031e-25\n",
       "8               Urban Population           2.846501e-28\n",
       "9   Country's Share of World Pop          -5.198717e-27\n",
       "10              World Population           1.117007e-26\n",
       "11             UgandaGlobal Rank           1.118866e-25"
      ]
     },
     "execution_count": 18,
     "metadata": {},
     "output_type": "execute_result"
    }
   ],
   "source": [
    "pd.DataFrame(zip(X.columns,poly_model_3.coef_),columns = ['Variables','estimated_coefficient'])"
   ]
  },
  {
   "cell_type": "code",
   "execution_count": 19,
   "id": "c9da6154",
   "metadata": {},
   "outputs": [
    {
     "name": "stdout",
     "output_type": "stream",
     "text": [
      "The y-intercept of the order 2 polynomial regression model: 1210762.0479138568\n"
     ]
    }
   ],
   "source": [
    "print ('The y-intercept of the order 2 polynomial regression model:',poly_model_3.intercept_)"
   ]
  },
  {
   "cell_type": "markdown",
   "id": "2dd35082",
   "metadata": {},
   "source": [
    "## Fitting a polynomial model order 3 with only year as the input variable"
   ]
  },
  {
   "cell_type": "code",
   "execution_count": 20,
   "id": "608293bc",
   "metadata": {},
   "outputs": [
    {
     "name": "stdout",
     "output_type": "stream",
     "text": [
      "The y-intercept of the order 2 polynomial regression model: -871186672486.6025\n"
     ]
    }
   ],
   "source": [
    "#polynomial model of order 3\n",
    "poly_lm = PolynomialFeatures(degree = 3)\n",
    "#transforming the features to the polynomial form\n",
    "x_poly = poly_lm.fit_transform(x) \n",
    "#creating a linear regression object\n",
    "lin_reg_3 = LinearRegression() \n",
    "#fits the linear regression object to the polynomial feature\n",
    "poly_model_3_year = lin_reg_3.fit(x_poly, y)\n",
    "\n",
    "print ('The y-intercept of the order 2 polynomial regression model:',poly_model_3_year.intercept_)"
   ]
  },
  {
   "cell_type": "markdown",
   "id": "9bc3b1e2",
   "metadata": {},
   "source": [
    "# (e) Exponential growth (3 marks)"
   ]
  },
  {
   "cell_type": "code",
   "execution_count": 21,
   "id": "fac51f8e",
   "metadata": {},
   "outputs": [],
   "source": [
    "# independent variable for x axis\n",
    "x = table_df['Year']\n",
    "#fitting an exponential model\n",
    "expo_model = np.polyfit(x, np.log(y), 1)"
   ]
  },
  {
   "cell_type": "code",
   "execution_count": 22,
   "id": "a36e4c94",
   "metadata": {},
   "outputs": [
    {
     "name": "stdout",
     "output_type": "stream",
     "text": [
      "[ 3.15988823e-02 -4.62079346e+01]\n"
     ]
    }
   ],
   "source": [
    "#viewing intercept and coefficient of the model\n",
    "print(expo_model)"
   ]
  },
  {
   "cell_type": "code",
   "execution_count": null,
   "id": "ddea8277",
   "metadata": {},
   "outputs": [],
   "source": []
  }
 ],
 "metadata": {
  "kernelspec": {
   "display_name": "Python 3 (ipykernel)",
   "language": "python",
   "name": "python3"
  },
  "language_info": {
   "codemirror_mode": {
    "name": "ipython",
    "version": 3
   },
   "file_extension": ".py",
   "mimetype": "text/x-python",
   "name": "python",
   "nbconvert_exporter": "python",
   "pygments_lexer": "ipython3",
   "version": "3.9.12"
  }
 },
 "nbformat": 4,
 "nbformat_minor": 5
}
